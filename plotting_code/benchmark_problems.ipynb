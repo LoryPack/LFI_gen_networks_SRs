{
 "cells": [
  {
   "cell_type": "code",
   "execution_count": null,
   "metadata": {
    "ExecuteTime": {
     "end_time": "2022-02-14T11:15:59.363434Z",
     "start_time": "2022-02-14T11:15:58.599679Z"
    }
   },
   "outputs": [],
   "source": [
    "import numpy as np\n",
    "import matplotlib.pyplot as plt\n",
    "import matplotlib.patches as mp\n",
    "import torch\n",
    "\n",
    "import pandas as pd\n",
    "import yaml\n",
    "\n",
    "from matplotlib.lines import Line2D\n",
    "from os.path import join\n",
    "from os import listdir\n",
    "\n",
    "import matplotlib as mpl\n",
    "\n",
    "from sbibm.visualisation import fig_posterior\n",
    "from deneb.utils import save"
   ]
  },
  {
   "cell_type": "markdown",
   "metadata": {},
   "source": [
    "## Figure 2: Benchmark tasks"
   ]
  },
  {
   "cell_type": "code",
   "execution_count": null,
   "metadata": {
    "ExecuteTime": {
     "end_time": "2022-02-14T11:16:00.062512Z",
     "start_time": "2022-02-14T11:15:59.619191Z"
    }
   },
   "outputs": [],
   "source": [
    "tasks = [\"slcp\", \"two_moons\"]\n",
    "labels = [\"SLCP\", \"Two Moons\"]\n",
    "algos = [\"GATSBI\", \"NLE\", \"NRE\", \"NPE\",\"REJ-ABC\", \"SMC-ABC\"]\n",
    "colors = [*[\"tab:green\"]*2, *[\"tab:blue\"]*3,\"tab:red\"]\n",
    "alphas = [1., .5, 1., .6, .3, 1.]\n",
    "\n",
    "\n",
    "model_perf = {}\n",
    "for task in tasks:\n",
    "    with open(join(\"plotting_data/\", \n",
    "                   \"%s_c2st_scores.yaml\"  % task), \n",
    "              \"r\") as f:\n",
    "        model_perf[task] = yaml.load(f, Loader=yaml.FullLoader)\n",
    "\n",
    "fig, axes = plt.subplots(1, 2, figsize=(1.25*8.27, 3.))\n",
    "fig.subplots_adjust(wspace=.275)\n",
    "with mpl.rc_context(fname='./matplotlibrc'):\n",
    "\n",
    "    for j, (task, ax, ttl) in enumerate(zip(tasks, axes, labels)):\n",
    "        mdl = model_perf[task][\"c2st_mean\"]\n",
    "        sem = model_perf[task][\"c2st_sem\"]\n",
    "        \n",
    "        for i, (alg, color, alpha) in enumerate(zip(algos[::-1],\n",
    "                                                    colors,\n",
    "                                                    alphas)):\n",
    "            ax.errorbar(range(3),\n",
    "                        mdl[alg],\n",
    "                        yerr=sem[alg],\n",
    "                        color=color,\n",
    "                        alpha=alpha,\n",
    "                        label=alg,\n",
    "                        lw=2.0)\n",
    "            \n",
    "        if task == \"two_moons\":\n",
    "            alg = \"GATSBI-optim\"\n",
    "            ax.errorbar(range(3),\n",
    "                        mdl[alg],\n",
    "                        yerr=sem[alg],\n",
    "                        color=\"tab:red\",\n",
    "                        linestyle=\"dashed\",\n",
    "                        alpha=1.,\n",
    "                        label=\"GATSBI-optim\",\n",
    "                        lw=2.0)\n",
    "#             alg = \"GATSBI-EBM\"\n",
    "#             ax.errorbar(range(3),\n",
    "#                         mdl[alg],\n",
    "#                         yerr=sem[alg],\n",
    "#                         color=\"tab:red\",\n",
    "#                         linestyle=\"dotted\",\n",
    "#                         alpha=1.,\n",
    "#                         label=\"GATSB_EBM\",\n",
    "#                         lw=2.0)\n",
    "\n",
    "        if j==0:\n",
    "            ax.legend(frameon=False)\n",
    "\n",
    "        if j==1:\n",
    "            custom_lines = [Line2D([0], [0], color=\"tab:red\", lw=2.0, linestyle=\"dashed\"),\n",
    "#                             Line2D([0], [0], color=\"tab:red\", lw=2.0, linestyle=\"dotted\")\n",
    "                            ]\n",
    "            ax.legend(custom_lines, ['GATSBI: opt. hyperparams',\n",
    "#                                      'Seq. GATSBI EBM'\n",
    "                                    ], \n",
    "                      loc=\"lower left\")\n",
    "            \n",
    "        ax.set_xlim([-0.05, 2.05])\n",
    "        ax.set_xticks([0, 1, 2])\n",
    "        ax.set_yticks([0.5, .75, 1.])\n",
    "        \n",
    "        #ax.set_xticklabels([r\"$10^3$\", r\"$10^4$\", r\"$10^5$\"])\n",
    "        ax.set_xticklabels([r\"1000\", \"10 000\", \"100 000\"])\n",
    "        ax.set_ylim((0.5, 1.))\n",
    "        ax.set_xlabel(\"Number of simulations\")\n",
    "        ax.set_ylabel(\"C2ST (accuracy)\")\n",
    "        ax.set_title(ttl)\n",
    "\n",
    "    fig.text(0.05, .89, \"A\", fontsize=18)\n",
    "    fig.text(0.48, .89, \"B\", fontsize=18)\n",
    "\n",
    "    plt.subplots_adjust(hspace=2.)\n",
    "    \n",
    "    plt.savefig(\"plots/Figure2.pdf\")"
   ]
  },
  {
   "cell_type": "markdown",
   "metadata": {},
   "source": [
    "## Supplementary Figure 6: Benchmark scores for LFVI, DPS and GATSBI"
   ]
  },
  {
   "cell_type": "code",
   "execution_count": null,
   "metadata": {
    "ExecuteTime": {
     "end_time": "2022-02-14T11:16:03.944774Z",
     "start_time": "2022-02-14T11:16:03.675813Z"
    }
   },
   "outputs": [],
   "source": [
    "tasks = [\"slcp\", \"two_moons\"]\n",
    "labels = [\"SLCP\", \"Two Moons\"]\n",
    "algos = [\"GATSBI\", \"LFVI\", \"DPS\"]\n",
    "colors = [\"xkcd:gold\", \"xkcd:navy\",\"tab:red\"]\n",
    "alphas = [1., 1., 1.]\n",
    "\n",
    "save_path = \"plotting_data/\"\n",
    "\n",
    "model_perf = {}\n",
    "for task in tasks:\n",
    "    with open(join(save_path, \n",
    "                   \"%s_c2st_scores.yaml\" % task), \n",
    "              \"r\") as f:\n",
    "        model_perf[task] = yaml.load(f)\n",
    "\n",
    "fig, axes = plt.subplots(1, 2, figsize=(1.25*8.27, 3.))\n",
    "fig.subplots_adjust(wspace=.275)\n",
    "with mpl.rc_context(fname='./matplotlibrc'):\n",
    "\n",
    "    for j, (task, ax, ttl) in enumerate(zip(tasks, axes, labels)):\n",
    "        mdl = model_perf[task][\"c2st_mean\"]\n",
    "        sem = model_perf[task][\"c2st_sem\"]\n",
    "        \n",
    "        for i, (alg, color, alpha) in enumerate(zip(algos[::-1],\n",
    "                                                    colors,\n",
    "                                                    alphas)):\n",
    "            ax.errorbar(range(3),\n",
    "                        mdl[alg],\n",
    "                        yerr=sem[alg],\n",
    "                        color=color,\n",
    "                        alpha=alpha,\n",
    "                        label=alg,\n",
    "                        lw=2.0)\n",
    "\n",
    "        if j==0:\n",
    "            ax.legend(frameon=False)\n",
    "\n",
    "        if j==1:\n",
    "            custom_lines = [Line2D([0], [0], color=\"tab:red\", lw=2.0, linestyle=\"dashed\")]\n",
    "            \n",
    "        ax.set_xlim([-0.05, 2.05])\n",
    "        ax.set_xticks([0, 1, 2])\n",
    "        ax.set_yticks([.8, .9, 1.])\n",
    "        \n",
    "        #ax.set_xticklabels([r\"$10^3$\", r\"$10^4$\", r\"$10^5$\"])\n",
    "        ax.set_xticklabels([r\"1000\", r\"10 000\", r\"100 000\"])\n",
    "        ax.set_ylim((0.75, 1.))\n",
    "        ax.set_xlabel(\"Number of simulations\")\n",
    "        ax.set_ylabel(\"C2ST (accuracy)\")\n",
    "        ax.set_title(ttl)\n",
    "\n",
    "    fig.text(0.05, .89, \"A\", fontsize=18)\n",
    "    fig.text(0.48, .89, \"B\", fontsize=18)\n",
    "\n",
    "    plt.subplots_adjust(hspace=2.)\n",
    "    \n",
    "    plt.savefig(\"plots/SuppFigure6.pdf\")"
   ]
  },
  {
   "cell_type": "markdown",
   "metadata": {},
   "source": [
    "## Supplementary Figure 9: Benchmark scores for sequential GATSBI"
   ]
  },
  {
   "cell_type": "code",
   "execution_count": null,
   "metadata": {
    "ExecuteTime": {
     "end_time": "2022-02-14T11:16:06.917806Z",
     "start_time": "2022-02-14T11:16:06.743755Z"
    }
   },
   "outputs": [],
   "source": [
    "tasks = [\"two_moons\"]\n",
    "labels = [\"Two Moons\"]\n",
    "algos = [\"GATSBI\", \"GATSBI-EBM\", \"GATSBI-inv\"]\n",
    "colors = [\"tab:red\", \"k\", \"xkcd:pink\"]\n",
    "# alphas = [1., .5, .2]\n",
    "\n",
    "save_path = \"plotting_data/\"\n",
    "\n",
    "model_perf = {}\n",
    "for task in tasks:\n",
    "    with open(join(save_path, \n",
    "                   \"%s_c2st_scores.yaml\" % task), \n",
    "              \"r\") as f:\n",
    "        model_perf[task] = yaml.load(f)\n",
    "\n",
    "fig, axes = plt.subplots(1, 1, figsize=(8., 3.))\n",
    "\n",
    "with mpl.rc_context(fname='./matplotlibrc'):\n",
    "\n",
    "    for j, (task, ax, ttl) in enumerate(zip(tasks, [axes], labels)):\n",
    "        mdl = model_perf[task][\"c2st_mean\"]\n",
    "        sem = model_perf[task][\"c2st_sem\"]\n",
    "        \n",
    "        for i, (alg, color, alpha) in enumerate(zip(algos,\n",
    "                                                    colors,\n",
    "                                                    alphas)):\n",
    "            ax.errorbar(range(3),\n",
    "                        mdl[alg],\n",
    "                        yerr=sem[alg],\n",
    "                        color=color,\n",
    "                        alpha=alpha,\n",
    "                        label=alg,\n",
    "                        lw=3.0)\n",
    "\n",
    "        custom_lines = [Line2D([0], [0], color=i, alpha=1.)\n",
    "                        for i in colors]\n",
    "        ax.legend(custom_lines, ['Amort. GATSBI', 'Seq. GATSBI EBM', 'Seq. GATSBI Inv. Imp. Wts'])\n",
    "            \n",
    "        ax.set_xlim([-0.05, 2.05])\n",
    "        ax.set_xticks([0, 1, 2])\n",
    "        ax.set_yticks([.75, 1.])\n",
    "        \n",
    "        #ax.set_xticklabels([r\"$10^3$\", r\"$10^4$\", r\"$10^5$\"])\n",
    "        ax.set_xticklabels([r\"1000\", \"10 000\", \"100 000\"])\n",
    "        ax.set_ylim((0.75, 1.))\n",
    "        ax.set_xlabel(\"Number of simulations\")\n",
    "        ax.set_ylabel(\"C2ST (accuracy)\")\n",
    "        ax.set_title(ttl)\n",
    "\n",
    "#     fig.text(0.01, .89, \"A\", fontsize=18)\n",
    "#     fig.text(0.48, .89, \"B\", fontsize=18)\n",
    "\n",
    "#     plt.subplots_adjust(hspace=2.)\n",
    "    \n",
    "    plt.savefig(\"plots/SuppFigure9.pdf\")"
   ]
  },
  {
   "cell_type": "markdown",
   "metadata": {},
   "source": [
    "## Supplementary Figure 7 / 8: GATSBI posterior samples"
   ]
  },
  {
   "cell_type": "code",
   "execution_count": null,
   "metadata": {
    "ExecuteTime": {
     "end_time": "2022-02-14T11:16:11.915970Z",
     "start_time": "2022-02-14T11:16:09.275615Z"
    }
   },
   "outputs": [],
   "source": [
    "tasks = [\"slcp\", \"two_moons\"]\n",
    "labels = [\"SLCP\", \"Two Moons\"]\n",
    "\n",
    "for task, label, num in zip(tasks, labels, [7, 8]):\n",
    "    samples = np.load(\"plotting_data/gatsbi_%s_samples.npy\" % task)\n",
    "\n",
    "    chart = fig_posterior(\n",
    "        task_name=task,\n",
    "        num_observation=3,\n",
    "        samples_tensor=torch.tensor(samples),\n",
    "        samples_name=label,\n",
    "        samples_color=\"#EC051C\")\n",
    "    save(chart, \"./plots/SuppFigure%d.png\" % num)\n",
    "\n"
   ]
  },
  {
   "cell_type": "code",
   "execution_count": null,
   "metadata": {},
   "outputs": [],
   "source": []
  }
 ],
 "metadata": {
  "kernelspec": {
   "display_name": "gatsbi",
   "language": "python",
   "name": "gatsbi"
  },
  "language_info": {
   "codemirror_mode": {
    "name": "ipython",
    "version": 3
   },
   "file_extension": ".py",
   "mimetype": "text/x-python",
   "name": "python",
   "nbconvert_exporter": "python",
   "pygments_lexer": "ipython3",
   "version": "3.7.7"
  },
  "latex_envs": {
   "LaTeX_envs_menu_present": true,
   "autoclose": false,
   "autocomplete": true,
   "bibliofile": "biblio.bib",
   "cite_by": "apalike",
   "current_citInitial": 1,
   "eqLabelWithNumbers": true,
   "eqNumInitial": 1,
   "hotkeys": {
    "equation": "Ctrl-E",
    "itemize": "Ctrl-I"
   },
   "labels_anchors": false,
   "latex_user_defs": false,
   "report_style_numbering": false,
   "user_envs_cfg": false
  }
 },
 "nbformat": 4,
 "nbformat_minor": 4
}
