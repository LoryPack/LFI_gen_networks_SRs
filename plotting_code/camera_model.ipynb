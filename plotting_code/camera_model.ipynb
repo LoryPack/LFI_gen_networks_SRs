{
 "cells": [
  {
   "cell_type": "code",
   "execution_count": null,
   "metadata": {
    "ExecuteTime": {
     "end_time": "2022-02-14T11:17:05.780839Z",
     "start_time": "2022-02-14T11:17:05.235446Z"
    }
   },
   "outputs": [],
   "source": [
    "import torch\n",
    "import numpy as np\n",
    "from os.path import join\n",
    "import matplotlib.pyplot as plt\n",
    "from mpl_toolkits.axes_grid1.axes_divider import make_axes_locatable\n",
    "import matplotlib as mpl"
   ]
  },
  {
   "cell_type": "code",
   "execution_count": null,
   "metadata": {
    "ExecuteTime": {
     "end_time": "2022-02-14T11:17:18.321432Z",
     "start_time": "2022-02-14T11:17:18.303361Z"
    }
   },
   "outputs": [],
   "source": [
    "data = np.load(join(\"plotting_data/camera_samples.npz\"))\n",
    "theta_test,\\\n",
    "obs_test,\\\n",
    "gatsbi_samples,\\\n",
    "npe_samples = data[\"theta_test\"],\\\n",
    "              data[\"obs_test\"],\\\n",
    "              data[\"gatsbi_samples\"],\\\n",
    "              data[\"npe_samples\"]"
   ]
  },
  {
   "cell_type": "code",
   "execution_count": null,
   "metadata": {
    "ExecuteTime": {
     "end_time": "2022-02-14T11:17:31.360211Z",
     "start_time": "2022-02-14T11:17:22.027684Z"
    }
   },
   "outputs": [],
   "source": [
    "gt_colors = \"Greys\"\n",
    "npe_colors = \"Greys\"\n",
    "npe_colors_std = \"Greys\"\n",
    "\n",
    "def add_cbar(cax, im, lim_min, lim_max):\n",
    "    cbar = plt.colorbar(im, cax=cax, ticks=[lim_min, lim_max])\n",
    "    cbar.ax.tick_params(labelsize=40)\n",
    "    cbar.outline.set_visible(False)\n",
    "    return cbar\n",
    "\n",
    "def hide_ax(ax):\n",
    "    ax.spines['right'].set_visible(False)\n",
    "    ax.spines['top'].set_visible(False)\n",
    "    ax.spines['bottom'].set_visible(False)\n",
    "    ax.spines['left'].set_visible(False)\n",
    "    ax.set_xticks([])\n",
    "    ax.set_yticks([])\n",
    "    return ax\n",
    "\n",
    "with mpl.rc_context(fname='./matplotlibrc'):\n",
    "\n",
    "    fig, axes = plt.subplots(6, 12, figsize=(50, 22.5))\n",
    "    left_adjust = .96\n",
    "\n",
    "    fig.subplots_adjust(right=.95, wspace=.1)\n",
    "    caxs = []\n",
    "    caxs.append(fig.add_axes([left_adjust, .79, .01, .1]))\n",
    "    caxs.append(fig.add_axes([left_adjust, .655, .01, .1]))\n",
    "    caxs.append(fig.add_axes([left_adjust, .52, .01, .1]))\n",
    "    caxs.append(fig.add_axes([left_adjust, .385, .01, .1]))\n",
    "    caxs.append(fig.add_axes([left_adjust, .25, .01, .1]))\n",
    "    caxs.append(fig.add_axes([left_adjust, .115, .01, .1]))\n",
    "    # 135\n",
    "    # imshow settings\n",
    "    fontname = \"Arial\"\n",
    "    fontsize = 50\n",
    "    origin = 'lower'\n",
    "    mn_vmin = 0.\n",
    "    mn_vmax = 1.\n",
    "\n",
    "    std_vmin = 0.\n",
    "    std_vmax = .1\n",
    "\n",
    "    for i, ax in enumerate(axes.T):\n",
    "        for j, (samp, tit) in enumerate(zip([theta_test, obs_test, [gatsbi_samples, npe_samples]],\n",
    "                                            [r\"$\\theta$\", r\"$x_{o}$\", \"Mean\"]\n",
    "                                           )\n",
    "                                       ):\n",
    "            # Set ylabel\n",
    "            if i == 0:\n",
    "                ax[j].set_ylabel(tit, fontsize=fontsize, fontname=fontname)\n",
    "                ax[4].set_ylabel(\"Mean\", fontsize=fontsize, fontname=fontname)\n",
    "                \n",
    "                ax[3].set_ylabel(\"SD\", fontsize=fontsize, fontname=fontname)\n",
    "                ax[5].set_ylabel(\"SD\", fontsize=fontsize, fontname=fontname)\n",
    "                \n",
    "            # Plot GT theta and obs\n",
    "            if j < 2:\n",
    "                im = ax[j].imshow((samp[i].squeeze()).T[::-1], \n",
    "                                  origin=origin,\n",
    "                                  vmax=mn_vmax, \n",
    "                                  vmin=mn_vmin, \n",
    "                                  cmap=gt_colors)\n",
    "                cbar = add_cbar(caxs[j], im, mn_vmin, mn_vmax)\n",
    "                hide_ax(ax[j])\n",
    "                \n",
    "            # Plot NPE / GATSBI samples\n",
    "            else:\n",
    "                for k, (ss, mean_vmax, stdev_vmax) in enumerate(zip(samp, [1., 10.], [.1, 1000.])):\n",
    "#                     mean = np.mean(npe_samples[i], 0).squeeze()\n",
    "#                     std = np.std(npe_samples[i], 0).squeeze()\n",
    "                    mean = np.mean(ss[i], 0).squeeze()\n",
    "                    std = np.std(ss[i], 0).squeeze()\n",
    "                    im = ax[j+ 2*k].imshow(mean.T[::-1], \n",
    "                                        origin=origin,\n",
    "                                        vmax=mean_vmax,\n",
    "                                        vmin=mn_vmin, \n",
    "                                        cmap=npe_colors)\n",
    "                    cbar = add_cbar(caxs[j + 2*k], im, mn_vmin, mean_vmax)\n",
    "                    hide_ax(ax[j + 2*k])\n",
    "\n",
    "                    im = ax[j + 2*k + 1].imshow(std.T[::-1],\n",
    "                                                vmax=stdev_vmax,\n",
    "                                                vmin=std_vmin,\n",
    "                                                origin=origin,\n",
    "                                                cmap=npe_colors_std)\n",
    "                    cbar = add_cbar(caxs[j + 2*k + 1], im, std_vmin, stdev_vmax)\n",
    "                    hide_ax(ax[j + 2*k + 1])\n",
    "\n",
    "    fig.text(0.095, .76, \n",
    "             \"Groundtruth\", \n",
    "             rotation='vertical', \n",
    "             va='center', \n",
    "             fontsize=fontsize,\n",
    "             fontname=fontname,\n",
    "             fontweight=\"bold\")\n",
    "\n",
    "    fig.text(0.095, .5, \n",
    "             \"GATSBI\", \n",
    "             rotation='vertical', \n",
    "             va='center', \n",
    "             fontsize=fontsize,\n",
    "             fontname=fontname,\n",
    "             fontweight=\"bold\")\n",
    "    \n",
    "    fig.text(0.095, .23, \n",
    "             \"NPE\", \n",
    "             rotation='vertical', \n",
    "             va='center', \n",
    "             fontsize=fontsize,\n",
    "             fontname=fontname,\n",
    "             fontweight=\"bold\")\n",
    "\n",
    "    ax = hide_ax(plt.gca())\n",
    "\n",
    "    plt.savefig(\"plots/Figure5.pdf\")\n"
   ]
  },
  {
   "cell_type": "code",
   "execution_count": null,
   "metadata": {},
   "outputs": [],
   "source": []
  }
 ],
 "metadata": {
  "kernelspec": {
   "display_name": "gatsbi",
   "language": "python",
   "name": "gatsbi"
  },
  "language_info": {
   "codemirror_mode": {
    "name": "ipython",
    "version": 3
   },
   "file_extension": ".py",
   "mimetype": "text/x-python",
   "name": "python",
   "nbconvert_exporter": "python",
   "pygments_lexer": "ipython3",
   "version": "3.7.7"
  },
  "latex_envs": {
   "LaTeX_envs_menu_present": true,
   "autoclose": false,
   "autocomplete": true,
   "bibliofile": "biblio.bib",
   "cite_by": "apalike",
   "current_citInitial": 1,
   "eqLabelWithNumbers": true,
   "eqNumInitial": 1,
   "hotkeys": {
    "equation": "Ctrl-E",
    "itemize": "Ctrl-I"
   },
   "labels_anchors": false,
   "latex_user_defs": false,
   "report_style_numbering": false,
   "user_envs_cfg": false
  }
 },
 "nbformat": 4,
 "nbformat_minor": 4
}
