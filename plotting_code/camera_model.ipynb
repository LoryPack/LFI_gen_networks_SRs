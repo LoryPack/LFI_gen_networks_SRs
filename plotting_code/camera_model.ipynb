{
 "cells": [
  {
   "cell_type": "code",
   "execution_count": 1,
   "metadata": {
    "ExecuteTime": {
     "end_time": "2024-02-13T11:20:43.390011591Z",
     "start_time": "2024-02-13T11:20:37.825290259Z"
    }
   },
   "outputs": [],
   "source": [
    "import pickle\n",
    "\n",
    "import torch\n",
    "import numpy as np\n",
    "from os.path import join\n",
    "import matplotlib.pyplot as plt\n",
    "from mpl_toolkits.axes_grid1.axes_divider import make_axes_locatable\n",
    "import matplotlib as mpl\n",
    "from copy import deepcopy\n",
    "from tabulate import tabulate"
   ]
  },
  {
   "cell_type": "markdown",
   "metadata": {},
   "source": [
    "# Download data from WANDB\n",
    "And put them in dataframes"
   ]
  },
  {
   "cell_type": "code",
   "execution_count": 2,
   "metadata": {
    "ExecuteTime": {
     "end_time": "2024-02-13T11:20:46.670016059Z",
     "start_time": "2024-02-13T11:20:43.374511112Z"
    }
   },
   "outputs": [],
   "source": [
    "from utils import obtain_wandb_data"
   ]
  },
  {
   "cell_type": "code",
   "execution_count": 3,
   "metadata": {
    "ExecuteTime": {
     "end_time": "2024-02-13T11:20:48.348641711Z",
     "start_time": "2024-02-13T11:20:46.679767191Z"
    }
   },
   "outputs": [],
   "source": [
    "runs_list, runs_list_GAN, runs_list_SRs = obtain_wandb_data([\"EMNIST\"])"
   ]
  },
  {
   "cell_type": "code",
   "execution_count": 4,
   "metadata": {
    "scrolled": true,
    "ExecuteTime": {
     "end_time": "2024-02-13T11:20:48.398403858Z",
     "start_time": "2024-02-13T11:20:48.344243290Z"
    }
   },
   "outputs": [],
   "source": [
    "runs_list = runs_list[0]"
   ]
  },
  {
   "cell_type": "code",
   "execution_count": 5,
   "metadata": {
    "ExecuteTime": {
     "end_time": "2024-02-13T11:20:48.481947839Z",
     "start_time": "2024-02-13T11:20:48.366298124Z"
    }
   },
   "outputs": [],
   "source": [
    "runs_list=runs_list.sort_values(\"name\")"
   ]
  },
  {
   "cell_type": "markdown",
   "metadata": {},
   "source": [
    "We have trained with the SR methods using both 3 and 10 simulations for each training step; we will report below the results obtained with 10 samples.\n",
    "\n",
    "Separate now the runs which use 3 and 10 n_generations (but we include GAN in both)"
   ]
  },
  {
   "cell_type": "code",
   "execution_count": 6,
   "metadata": {
    "ExecuteTime": {
     "end_time": "2024-02-13T11:20:48.579913693Z",
     "start_time": "2024-02-13T11:20:48.385616759Z"
    }
   },
   "outputs": [],
   "source": [
    "df_3 = runs_list[(runs_list[\"num_simulations_generator\"]==3)  | (runs_list[\"loss\"] == \"cross_entropy\")]\n",
    "df_10 = runs_list[(runs_list[\"num_simulations_generator\"]==10) | (runs_list[\"loss\"] == \"cross_entropy\")]"
   ]
  },
  {
   "cell_type": "markdown",
   "metadata": {},
   "source": [
    "The first run did not compute the RMSE values correctly. We therefore computed them subsequently; add them to the dataframe right now: "
   ]
  },
  {
   "cell_type": "code",
   "execution_count": 7,
   "metadata": {
    "ExecuteTime": {
     "end_time": "2024-02-13T11:20:48.721104472Z",
     "start_time": "2024-02-13T11:20:48.419145841Z"
    }
   },
   "outputs": [],
   "source": [
    "names = [\"camera_model_kernel_score_10\", \"camera_model_kernel_score_10_patched_5_8\", \"camera_model_energy_score_10_patched_5_8\",\n",
    "         \"camera_model_energy_score_10_patched_7_14\", \"camera_model_energy_score_10\", \"camera_model_kernel_score_10_patched_7_14\",\n",
    "         \"camera_model_GAN_800000\"]\n",
    "dicts = [{'rmse_val_mean': 0.06406807, 'rmse_val_std': 0.045899235},\n",
    "         {'rmse_val_mean': 0.06944673, 'rmse_val_std': 0.04826797},\n",
    "         {'rmse_val_mean': 0.06270825, 'rmse_val_std': 0.04553171},\n",
    "         {'rmse_val_mean': 0.07040126, 'rmse_val_std': 0.04799262},\n",
    "         {'rmse_val_mean': 0.0782916, 'rmse_val_std': 0.0482274},\n",
    "         {'rmse_val_mean': 0.09903354, 'rmse_val_std': 0.058070697},\n",
    "         {'rmse_val_mean': 0.25184682, 'rmse_val_std': 0.19277969}]\n",
    "\n",
    "# loop over names and dicts\n",
    "for name, dict in zip(names, dicts):\n",
    "    row_index_1 = df_10[\"name\"] == name \n",
    "    row_index_2 = df_3[\"name\"] == name \n",
    "    # loop over dict keys\n",
    "    for key in dict.keys():\n",
    "        df_10.loc[row_index_1, key] = dict[key]\n",
    "        df_3.loc[row_index_2, key] = dict[key]        "
   ]
  },
  {
   "cell_type": "code",
   "execution_count": 8,
   "metadata": {
    "ExecuteTime": {
     "end_time": "2024-02-13T11:20:48.843613693Z",
     "start_time": "2024-02-13T11:20:48.456152910Z"
    }
   },
   "outputs": [
    {
     "data": {
      "text/plain": "                                         name        ID  epochs  patch_size  \\\n12                    camera_model_GAN_800000  u25w8avb   10000         NaN   \n5                camera_model_energy_score_10  1tka5tp1   10000         NaN   \n3    camera_model_energy_score_10_patched_5_8  11wxayas   10000         8.0   \n4   camera_model_energy_score_10_patched_7_14  1q7dpoiq   10000        14.0   \n2                camera_model_kernel_score_10  v097tq54   10000         NaN   \n0    camera_model_kernel_score_10_patched_5_8  2bb5fc4j   10000         8.0   \n1   camera_model_kernel_score_10_patched_7_14  1g7nsdur   10000        14.0   \n\n    patch_step patched_sr  sample_seed           gen_opt_args  scoring_rule  \\\n12         NaN        NaN           42  [0.0002, [0.5, 0.99]]           NaN   \n5          NaN      False           42  [0.0002, [0.5, 0.99]]  energy_score   \n3          5.0       True           42  [0.0002, [0.5, 0.99]]  energy_score   \n4          7.0       True           42  [0.0002, [0.5, 0.99]]  energy_score   \n2          NaN      False           42  [0.0002, [0.5, 0.99]]  kernel_score   \n0          5.0       True           42  [0.0002, [0.5, 0.99]]  kernel_score   \n1          7.0       True           42  [0.0002, [0.5, 0.99]]  kernel_score   \n\n    hold_out_perc  ...           dis_opt_args  max_norm_dis  max_norm_gen  \\\n12            NaN  ...  [0.0002, [0.5, 0.99]]          0.01          0.01   \n5             0.2  ...                    NaN           NaN           NaN   \n3             0.2  ...                    NaN           NaN           NaN   \n4             0.2  ...                    NaN           NaN           NaN   \n2             0.2  ...                    NaN           NaN           NaN   \n0             0.2  ...                    NaN           NaN           NaN   \n1             0.2  ...                    NaN           NaN           NaN   \n\n    num_simulations  dreal_mean dfake_mean  dfake_std  dreal_std   dis_grad  \\\n12         800000.0    0.496308   0.506794     0.0235   0.025258  20.277802   \n5               NaN         NaN        NaN        NaN        NaN        NaN   \n3               NaN         NaN        NaN        NaN        NaN        NaN   \n4               NaN         NaN        NaN        NaN        NaN        NaN   \n2               NaN         NaN        NaN        NaN        NaN        NaN   \n0               NaN         NaN        NaN        NaN        NaN        NaN   \n1               NaN         NaN        NaN        NaN        NaN        NaN   \n\n    dis_loss  \n12  1.409826  \n5        NaN  \n3        NaN  \n4        NaN  \n2        NaN  \n0        NaN  \n1        NaN  \n\n[7 rows x 44 columns]",
      "text/html": "<div>\n<style scoped>\n    .dataframe tbody tr th:only-of-type {\n        vertical-align: middle;\n    }\n\n    .dataframe tbody tr th {\n        vertical-align: top;\n    }\n\n    .dataframe thead th {\n        text-align: right;\n    }\n</style>\n<table border=\"1\" class=\"dataframe\">\n  <thead>\n    <tr style=\"text-align: right;\">\n      <th></th>\n      <th>name</th>\n      <th>ID</th>\n      <th>epochs</th>\n      <th>patch_size</th>\n      <th>patch_step</th>\n      <th>patched_sr</th>\n      <th>sample_seed</th>\n      <th>gen_opt_args</th>\n      <th>scoring_rule</th>\n      <th>hold_out_perc</th>\n      <th>...</th>\n      <th>dis_opt_args</th>\n      <th>max_norm_dis</th>\n      <th>max_norm_gen</th>\n      <th>num_simulations</th>\n      <th>dreal_mean</th>\n      <th>dfake_mean</th>\n      <th>dfake_std</th>\n      <th>dreal_std</th>\n      <th>dis_grad</th>\n      <th>dis_loss</th>\n    </tr>\n  </thead>\n  <tbody>\n    <tr>\n      <th>12</th>\n      <td>camera_model_GAN_800000</td>\n      <td>u25w8avb</td>\n      <td>10000</td>\n      <td>NaN</td>\n      <td>NaN</td>\n      <td>NaN</td>\n      <td>42</td>\n      <td>[0.0002, [0.5, 0.99]]</td>\n      <td>NaN</td>\n      <td>NaN</td>\n      <td>...</td>\n      <td>[0.0002, [0.5, 0.99]]</td>\n      <td>0.01</td>\n      <td>0.01</td>\n      <td>800000.0</td>\n      <td>0.496308</td>\n      <td>0.506794</td>\n      <td>0.0235</td>\n      <td>0.025258</td>\n      <td>20.277802</td>\n      <td>1.409826</td>\n    </tr>\n    <tr>\n      <th>5</th>\n      <td>camera_model_energy_score_10</td>\n      <td>1tka5tp1</td>\n      <td>10000</td>\n      <td>NaN</td>\n      <td>NaN</td>\n      <td>False</td>\n      <td>42</td>\n      <td>[0.0002, [0.5, 0.99]]</td>\n      <td>energy_score</td>\n      <td>0.2</td>\n      <td>...</td>\n      <td>NaN</td>\n      <td>NaN</td>\n      <td>NaN</td>\n      <td>NaN</td>\n      <td>NaN</td>\n      <td>NaN</td>\n      <td>NaN</td>\n      <td>NaN</td>\n      <td>NaN</td>\n      <td>NaN</td>\n    </tr>\n    <tr>\n      <th>3</th>\n      <td>camera_model_energy_score_10_patched_5_8</td>\n      <td>11wxayas</td>\n      <td>10000</td>\n      <td>8.0</td>\n      <td>5.0</td>\n      <td>True</td>\n      <td>42</td>\n      <td>[0.0002, [0.5, 0.99]]</td>\n      <td>energy_score</td>\n      <td>0.2</td>\n      <td>...</td>\n      <td>NaN</td>\n      <td>NaN</td>\n      <td>NaN</td>\n      <td>NaN</td>\n      <td>NaN</td>\n      <td>NaN</td>\n      <td>NaN</td>\n      <td>NaN</td>\n      <td>NaN</td>\n      <td>NaN</td>\n    </tr>\n    <tr>\n      <th>4</th>\n      <td>camera_model_energy_score_10_patched_7_14</td>\n      <td>1q7dpoiq</td>\n      <td>10000</td>\n      <td>14.0</td>\n      <td>7.0</td>\n      <td>True</td>\n      <td>42</td>\n      <td>[0.0002, [0.5, 0.99]]</td>\n      <td>energy_score</td>\n      <td>0.2</td>\n      <td>...</td>\n      <td>NaN</td>\n      <td>NaN</td>\n      <td>NaN</td>\n      <td>NaN</td>\n      <td>NaN</td>\n      <td>NaN</td>\n      <td>NaN</td>\n      <td>NaN</td>\n      <td>NaN</td>\n      <td>NaN</td>\n    </tr>\n    <tr>\n      <th>2</th>\n      <td>camera_model_kernel_score_10</td>\n      <td>v097tq54</td>\n      <td>10000</td>\n      <td>NaN</td>\n      <td>NaN</td>\n      <td>False</td>\n      <td>42</td>\n      <td>[0.0002, [0.5, 0.99]]</td>\n      <td>kernel_score</td>\n      <td>0.2</td>\n      <td>...</td>\n      <td>NaN</td>\n      <td>NaN</td>\n      <td>NaN</td>\n      <td>NaN</td>\n      <td>NaN</td>\n      <td>NaN</td>\n      <td>NaN</td>\n      <td>NaN</td>\n      <td>NaN</td>\n      <td>NaN</td>\n    </tr>\n    <tr>\n      <th>0</th>\n      <td>camera_model_kernel_score_10_patched_5_8</td>\n      <td>2bb5fc4j</td>\n      <td>10000</td>\n      <td>8.0</td>\n      <td>5.0</td>\n      <td>True</td>\n      <td>42</td>\n      <td>[0.0002, [0.5, 0.99]]</td>\n      <td>kernel_score</td>\n      <td>0.2</td>\n      <td>...</td>\n      <td>NaN</td>\n      <td>NaN</td>\n      <td>NaN</td>\n      <td>NaN</td>\n      <td>NaN</td>\n      <td>NaN</td>\n      <td>NaN</td>\n      <td>NaN</td>\n      <td>NaN</td>\n      <td>NaN</td>\n    </tr>\n    <tr>\n      <th>1</th>\n      <td>camera_model_kernel_score_10_patched_7_14</td>\n      <td>1g7nsdur</td>\n      <td>10000</td>\n      <td>14.0</td>\n      <td>7.0</td>\n      <td>True</td>\n      <td>42</td>\n      <td>[0.0002, [0.5, 0.99]]</td>\n      <td>kernel_score</td>\n      <td>0.2</td>\n      <td>...</td>\n      <td>NaN</td>\n      <td>NaN</td>\n      <td>NaN</td>\n      <td>NaN</td>\n      <td>NaN</td>\n      <td>NaN</td>\n      <td>NaN</td>\n      <td>NaN</td>\n      <td>NaN</td>\n      <td>NaN</td>\n    </tr>\n  </tbody>\n</table>\n<p>7 rows × 44 columns</p>\n</div>"
     },
     "execution_count": 8,
     "metadata": {},
     "output_type": "execute_result"
    }
   ],
   "source": [
    "df_10"
   ]
  },
  {
   "cell_type": "markdown",
   "source": [
    "# Print all metrics as Table\n",
    "## However before doing this I need to compute the calibration metrics starting from the saved networks\n",
    "\n",
    "This is because I added some metrics after training is done, so those compute by the training script are not enough\n",
    "\n"
   ],
   "metadata": {
    "collapsed": false
   }
  },
  {
   "cell_type": "code",
   "outputs": [],
   "source": [
    "from glob import glob"
   ],
   "metadata": {
    "collapsed": false,
    "ExecuteTime": {
     "end_time": "2024-02-13T11:20:48.850644970Z",
     "start_time": "2024-02-13T11:20:48.581501742Z"
    }
   },
   "execution_count": 9
  },
  {
   "cell_type": "code",
   "outputs": [],
   "source": [
    "root_folder = \"../results/\""
   ],
   "metadata": {
    "collapsed": false,
    "ExecuteTime": {
     "end_time": "2024-02-13T11:20:48.855967606Z",
     "start_time": "2024-02-13T11:20:48.582156624Z"
    }
   },
   "execution_count": 10
  },
  {
   "cell_type": "markdown",
   "source": [
    "The following two cells generate the ground truth data"
   ],
   "metadata": {
    "collapsed": false
   }
  },
  {
   "cell_type": "code",
   "outputs": [],
   "source": [
    "import importlib, yaml\n",
    "task_name = \"camera_model\"\n",
    "\n",
    "application = importlib.import_module(\"gatsbi.task_utils.%s\" % task_name)\n",
    "\n",
    "from argparse import Namespace as NSp\n",
    "\n",
    "with open(join(\"..\", \"tasks\", task_name, \"defaults.yaml\"), \"r\") as f:\n",
    "    defaults = yaml.load(f, Loader=yaml.Loader)#\n",
    "config = NSp(**defaults)\n",
    "\n",
    "batch_size = min(1000, int(config.batch_size_perc * config.num_simulations))"
   ],
   "metadata": {
    "collapsed": false,
    "ExecuteTime": {
     "end_time": "2024-02-13T11:20:49.606084524Z",
     "start_time": "2024-02-13T11:20:48.582756477Z"
    }
   },
   "execution_count": 11
  },
  {
   "cell_type": "markdown",
   "source": [
    "Notice I use `few_samples=True` here that only loads a subset of data"
   ],
   "metadata": {
    "collapsed": false
   }
  },
  {
   "cell_type": "code",
   "outputs": [
    {
     "name": "stdout",
     "output_type": "stream",
     "text": [
      "Loading EMNIST data...\n",
      "Done.\n"
     ]
    }
   ],
   "source": [
    "path_to_data = \"results/EMNIST_data\"\n",
    "prior = application.Prior(path_to_data=path_to_data, few_samples=True)\n",
    "simulator = application.Simulator()"
   ],
   "metadata": {
    "collapsed": false,
    "ExecuteTime": {
     "end_time": "2024-02-13T11:21:12.866399007Z",
     "start_time": "2024-02-13T11:21:01.293402454Z"
    }
   },
   "execution_count": 12
  },
  {
   "cell_type": "code",
   "outputs": [],
   "source": [
    "from gatsbi.task_utils.camera_model import Generator\n",
    "gen = Generator()"
   ],
   "metadata": {
    "collapsed": false,
    "ExecuteTime": {
     "end_time": "2024-02-13T11:21:12.955745Z",
     "start_time": "2024-02-13T11:21:12.869648008Z"
    }
   },
   "execution_count": 13
  },
  {
   "cell_type": "markdown",
   "source": [
    "Running the one below takes a lot of time. You can directly load the stored data with the cell immediately below"
   ],
   "metadata": {
    "collapsed": false
   }
  },
  {
   "cell_type": "code",
   "outputs": [],
   "source": [
    "from gatsbi.utils import generate_test_set_for_calibration, compute_calibration_metrics"
   ],
   "metadata": {
    "collapsed": false,
    "ExecuteTime": {
     "end_time": "2024-02-13T11:21:33.621481430Z",
     "start_time": "2024-02-13T11:21:31.383393375Z"
    }
   },
   "execution_count": 14
  },
  {
   "cell_type": "markdown",
   "source": [
    "TODO: run the cell below overnight"
   ],
   "metadata": {
    "collapsed": false
   }
  },
  {
   "cell_type": "code",
   "outputs": [
    {
     "name": "stdout",
     "output_type": "stream",
     "text": [
      "energy_score\n",
      "1tka5tp1\n",
      "Generating simulations from the generative network...\n"
     ]
    },
    {
     "ename": "ZeroDivisionError",
     "evalue": "division by zero",
     "output_type": "error",
     "traceback": [
      "\u001B[0;31m---------------------------------------------------------------------------\u001B[0m",
      "\u001B[0;31mZeroDivisionError\u001B[0m                         Traceback (most recent call last)",
      "File \u001B[0;32m<timed exec>:54\u001B[0m, in \u001B[0;36m<module>\u001B[0;34m\u001B[0m\n",
      "File \u001B[0;32m~/Dropbox/OxWaSP/PhD/Code/LFI_gen_networks_Scoring_Rules/gatsbi/utils/calibration.py:125\u001B[0m, in \u001B[0;36mcompute_calibration_metrics\u001B[0;34m(theta_samples, theta_test, sbc_hist, sbc_lines, norm_rmse, sbc_hist_kwargs, sbc_lines_kwargs)\u001B[0m\n\u001B[1;32m    122\u001B[0m     return_dict[\u001B[38;5;124m\"\u001B[39m\u001B[38;5;124msbc_hist\u001B[39m\u001B[38;5;124m\"\u001B[39m] \u001B[38;5;241m=\u001B[39m wandb\u001B[38;5;241m.\u001B[39mImage(fig)\n\u001B[1;32m    123\u001B[0m \u001B[38;5;28;01mif\u001B[39;00m sbc_lines:\n\u001B[1;32m    124\u001B[0m     \u001B[38;5;66;03m# print(\"Plotting SBC lines\")\u001B[39;00m\n\u001B[0;32m--> 125\u001B[0m     fig, ax \u001B[38;5;241m=\u001B[39m \u001B[43mmake_sbc_plot_lines\u001B[49m\u001B[43m(\u001B[49m\u001B[43mranks\u001B[49m\u001B[43m,\u001B[49m\u001B[43m \u001B[49m\u001B[38;5;241;43m*\u001B[39;49m\u001B[38;5;241;43m*\u001B[39;49m\u001B[43msbc_lines_kwargs\u001B[49m\u001B[43m)\u001B[49m\n\u001B[1;32m    126\u001B[0m     return_dict[\u001B[38;5;124m\"\u001B[39m\u001B[38;5;124msbc_lines\u001B[39m\u001B[38;5;124m\"\u001B[39m] \u001B[38;5;241m=\u001B[39m wandb\u001B[38;5;241m.\u001B[39mImage(fig)\n\u001B[1;32m    128\u001B[0m \u001B[38;5;28;01mreturn\u001B[39;00m return_dict\n",
      "File \u001B[0;32m~/Dropbox/OxWaSP/PhD/Code/LFI_gen_networks_Scoring_Rules/gatsbi/utils/calibration.py:215\u001B[0m, in \u001B[0;36mmake_sbc_plot_lines\u001B[0;34m(ranks, fig, ax, name, color, show, filename)\u001B[0m\n\u001B[1;32m    212\u001B[0m nbins \u001B[38;5;241m=\u001B[39m \u001B[38;5;28mint\u001B[39m(N \u001B[38;5;241m/\u001B[39m \u001B[38;5;241m20\u001B[39m)\n\u001B[1;32m    213\u001B[0m repeats \u001B[38;5;241m=\u001B[39m \u001B[38;5;241m1\u001B[39m\n\u001B[0;32m--> 215\u001B[0m hb \u001B[38;5;241m=\u001B[39m binom(N, p\u001B[38;5;241m=\u001B[39m\u001B[38;5;241;43m1\u001B[39;49m\u001B[43m \u001B[49m\u001B[38;5;241;43m/\u001B[39;49m\u001B[43m \u001B[49m\u001B[43mnbins\u001B[49m)\u001B[38;5;241m.\u001B[39mppf(\u001B[38;5;241m0.5\u001B[39m) \u001B[38;5;241m*\u001B[39m np\u001B[38;5;241m.\u001B[39mones(nbins)\n\u001B[1;32m    216\u001B[0m hbb \u001B[38;5;241m=\u001B[39m hb\u001B[38;5;241m.\u001B[39mcumsum() \u001B[38;5;241m/\u001B[39m hb\u001B[38;5;241m.\u001B[39msum()\n\u001B[1;32m    218\u001B[0m lower \u001B[38;5;241m=\u001B[39m [binom(N, p\u001B[38;5;241m=\u001B[39mp)\u001B[38;5;241m.\u001B[39mppf(\u001B[38;5;241m0.005\u001B[39m) \u001B[38;5;28;01mfor\u001B[39;00m p \u001B[38;5;129;01min\u001B[39;00m hbb]\n",
      "\u001B[0;31mZeroDivisionError\u001B[0m: division by zero"
     ]
    }
   ],
   "source": [
    "%%time\n",
    "\n",
    "# n_post_samples = 100\n",
    "task_name = \"camera_model\"\n",
    "df_in = df_10\n",
    "\n",
    "scoring_rule_list = [\"energy_score\", \"kernel_score\", \"GATSBI\"]\n",
    "plot_labels = [\"Energy Score\", \"Kernel Score\", \"GATSBI\"]\n",
    "patches_list = [None, [5,8], [7,14]]\n",
    "\n",
    "my_names_list = []\n",
    "\n",
    "for scoring_rule, plot_label in zip(scoring_rule_list, plot_labels):\n",
    "    for patch in patches_list:\n",
    "        \n",
    "        if scoring_rule == \"GATSBI\" and patch is not None:\n",
    "            continue\n",
    "\n",
    "        name = scoring_rule + (\"\" if patch is None else (str(patch[0]) + \"_\" + str(patch[1])))\n",
    "        print(name)\n",
    "        \n",
    "        if scoring_rule != \"GATSBI\":\n",
    "            # obtain the identifier\n",
    "            df = df_in[df_in.scoring_rule == scoring_rule]\n",
    "            if patch is None: \n",
    "                df = df[df.patched_sr == False]\n",
    "            else:\n",
    "                df = df[df.patched_sr== True]\n",
    "                df = df[df.patch_size == patch[1]] \n",
    "        else:\n",
    "            df = df_in[df_in.name == \"camera_model_GAN_800000\"]\n",
    "            \n",
    "        identifier = df[\"ID\"].item()\n",
    "        print(identifier)\n",
    "\n",
    "        # obtain the path\n",
    "        correct_folder = glob(root_folder + task_name + f\"/wandb/*{identifier}*\")\n",
    "        if len(correct_folder) == 0:\n",
    "            print(\"No match\")\n",
    "            continue\n",
    "        correct_folder = correct_folder[0]\n",
    "        \n",
    "        checkpoint_to_load = correct_folder +  \"/files/checkpoint_models0.pt\"\n",
    "        \n",
    "        # now should load the generative network for that folder:        \n",
    "        chpt = torch.load(checkpoint_to_load, map_location=torch.device('cpu') )\n",
    "        gen.load_state_dict(chpt[\"generator_state_dict\"])\n",
    "\n",
    "        test_theta_fake, test_theta = generate_test_set_for_calibration(prior, simulator, gen, n_test_samples=10,#00,\n",
    "                                                                        n_generator_simulations=10,#00,\n",
    "                                                                        sample_seed=config.sample_seed,\n",
    "                                                                        data_is_image=True)\n",
    "\n",
    "        fig_filename = join(\"..\", \"results\", task_name) + f\"/{scoring_rule}_\" + str(defaults[\"num_simulations\"])\n",
    "\n",
    "        res = compute_calibration_metrics(test_theta_fake, test_theta, sbc_lines=True,\n",
    "                                          norm_rmse=task_name != \"camera_model\",\n",
    "                                          sbc_lines_kwargs={\"name\": plot_label,\n",
    "                                                      \"filename\": fig_filename + \"_sbc_lines.pdf\"},\n",
    "                                    sbc_hist_kwargs={\"filename\": fig_filename + \"_sbc_hist.pdf\"})\n",
    "\n",
    "        my_names_list.append(name)\n",
    "\n",
    "        a_file = open(f\"plotting_data/camera_model_calibration_metrics_{name}.pkl\", \"wb\")\n",
    "        pickle.dump(res, a_file)\n",
    "        a_file.close()\n",
    "\n",
    "        # wrap the generator so that it can generate multiple samples at once: \n",
    "        # gen_wrapped = WrapGenMultipleSimulations(gen, n_simulations=n_post_samples)                \n",
    "        \n",
    "        #break\n",
    "    #break"
   ],
   "metadata": {
    "collapsed": false,
    "ExecuteTime": {
     "end_time": "2024-02-13T11:39:55.947281444Z",
     "start_time": "2024-02-13T11:39:24.460340874Z"
    }
   },
   "execution_count": 25
  },
  {
   "cell_type": "code",
   "outputs": [
    {
     "ename": "FileNotFoundError",
     "evalue": "[Errno 2] No such file or directory: 'plotting_data/camera_model_calibration_metrics_energy_score5_8.pkl'",
     "output_type": "error",
     "traceback": [
      "\u001B[0;31m---------------------------------------------------------------------------\u001B[0m",
      "\u001B[0;31mFileNotFoundError\u001B[0m                         Traceback (most recent call last)",
      "Input \u001B[0;32mIn [28]\u001B[0m, in \u001B[0;36m<cell line: 3>\u001B[0;34m()\u001B[0m\n\u001B[1;32m      6\u001B[0m name_for_df \u001B[38;5;241m=\u001B[39m task_name \u001B[38;5;241m+\u001B[39m \u001B[38;5;124m\"\u001B[39m\u001B[38;5;124m_\u001B[39m\u001B[38;5;124m\"\u001B[39m \u001B[38;5;241m+\u001B[39m scoring_rule \u001B[38;5;241m+\u001B[39m \u001B[38;5;124m\"\u001B[39m\u001B[38;5;124m_10\u001B[39m\u001B[38;5;124m\"\u001B[39m \u001B[38;5;241m+\u001B[39m (\u001B[38;5;124m\"\u001B[39m\u001B[38;5;124m\"\u001B[39m \u001B[38;5;28;01mif\u001B[39;00m patch \u001B[38;5;129;01mis\u001B[39;00m \u001B[38;5;28;01mNone\u001B[39;00m \u001B[38;5;28;01melse\u001B[39;00m \u001B[38;5;124m\"\u001B[39m\u001B[38;5;124m_patched_\u001B[39m\u001B[38;5;124m\"\u001B[39m \u001B[38;5;241m+\u001B[39m (\u001B[38;5;28mstr\u001B[39m(patch[\u001B[38;5;241m0\u001B[39m]) \u001B[38;5;241m+\u001B[39m \u001B[38;5;124m\"\u001B[39m\u001B[38;5;124m_\u001B[39m\u001B[38;5;124m\"\u001B[39m \u001B[38;5;241m+\u001B[39m \u001B[38;5;28mstr\u001B[39m(patch[\u001B[38;5;241m1\u001B[39m])))\n\u001B[1;32m      8\u001B[0m name_list\u001B[38;5;241m.\u001B[39mappend(name_for_df)\n\u001B[0;32m---> 10\u001B[0m a_file \u001B[38;5;241m=\u001B[39m \u001B[38;5;28;43mopen\u001B[39;49m\u001B[43m(\u001B[49m\u001B[38;5;124;43mf\u001B[39;49m\u001B[38;5;124;43m\"\u001B[39;49m\u001B[38;5;124;43mplotting_data/camera_model_calibration_metrics_\u001B[39;49m\u001B[38;5;132;43;01m{\u001B[39;49;00m\u001B[43mname\u001B[49m\u001B[38;5;132;43;01m}\u001B[39;49;00m\u001B[38;5;124;43m.pkl\u001B[39;49m\u001B[38;5;124;43m\"\u001B[39;49m\u001B[43m,\u001B[49m\u001B[43m \u001B[49m\u001B[38;5;124;43m\"\u001B[39;49m\u001B[38;5;124;43mrb\u001B[39;49m\u001B[38;5;124;43m\"\u001B[39;49m\u001B[43m)\u001B[49m\n\u001B[1;32m     11\u001B[0m output \u001B[38;5;241m=\u001B[39m pickle\u001B[38;5;241m.\u001B[39mload(a_file)\n\u001B[1;32m     12\u001B[0m res_list\u001B[38;5;241m.\u001B[39mappend(output)\n",
      "\u001B[0;31mFileNotFoundError\u001B[0m: [Errno 2] No such file or directory: 'plotting_data/camera_model_calibration_metrics_energy_score5_8.pkl'"
     ]
    }
   ],
   "source": [
    "res_list = []\n",
    "name_list = []\n",
    "for scoring_rule in scoring_rule_list:\n",
    "    for patch in patches_list:\n",
    "        \n",
    "        if scoring_rule == \"GATSBI\" and patch is not None:\n",
    "            continue\n",
    "            \n",
    "        name = scoring_rule + (\"\" if patch is None else (str(patch[0]) + \"_\" + str(patch[1])))\n",
    "        name_for_df = task_name + \"_\" + scoring_rule + \"_10\" + (\"\" if patch is None else \"_patched_\" + (str(patch[0]) + \"_\" + str(patch[1])))\n",
    "\n",
    "        name_list.append(name_for_df)\n",
    "        \n",
    "        a_file = open(f\"plotting_data/camera_model_calibration_metrics_{name}.pkl\", \"rb\")\n",
    "        output = pickle.load(a_file)\n",
    "        res_list.append(output)\n",
    "        a_file.close()"
   ],
   "metadata": {
    "collapsed": false,
    "ExecuteTime": {
     "end_time": "2024-02-13T11:42:48.265964034Z",
     "start_time": "2024-02-13T11:42:48.102459703Z"
    }
   },
   "execution_count": 28
  },
  {
   "cell_type": "code",
   "outputs": [],
   "source": [
    "import pandas as pd"
   ],
   "metadata": {
    "collapsed": false,
    "ExecuteTime": {
     "end_time": "2024-02-13T11:42:56.274038162Z",
     "start_time": "2024-02-13T11:42:56.177223676Z"
    }
   },
   "execution_count": 30
  },
  {
   "cell_type": "code",
   "outputs": [
    {
     "data": {
      "text/plain": "                                          cal_err_val_mean  r2_val_mean  \\\ncamera_model_energy_score_10                      0.399662   -15.698096   \ncamera_model_energy_score_10_patched_5_8          0.399662   -15.698096   \n\n                                          rmse_val_mean  cal_err_val_std  \\\ncamera_model_energy_score_10                   0.088741         0.116661   \ncamera_model_energy_score_10_patched_5_8       0.088741         0.116661   \n\n                                          r2_val_std  rmse_val_std  \\\ncamera_model_energy_score_10              124.673322      0.063775   \ncamera_model_energy_score_10_patched_5_8  124.673322      0.063775   \n\n                                          crps_val_mean  crps_val_std  \\\ncamera_model_energy_score_10                   0.061689      0.063227   \ncamera_model_energy_score_10_patched_5_8       0.061689      0.063227   \n\n                                                                              name  \ncamera_model_energy_score_10                          camera_model_energy_score_10  \ncamera_model_energy_score_10_patched_5_8  camera_model_energy_score_10_patched_5_8  ",
      "text/html": "<div>\n<style scoped>\n    .dataframe tbody tr th:only-of-type {\n        vertical-align: middle;\n    }\n\n    .dataframe tbody tr th {\n        vertical-align: top;\n    }\n\n    .dataframe thead th {\n        text-align: right;\n    }\n</style>\n<table border=\"1\" class=\"dataframe\">\n  <thead>\n    <tr style=\"text-align: right;\">\n      <th></th>\n      <th>cal_err_val_mean</th>\n      <th>r2_val_mean</th>\n      <th>rmse_val_mean</th>\n      <th>cal_err_val_std</th>\n      <th>r2_val_std</th>\n      <th>rmse_val_std</th>\n      <th>crps_val_mean</th>\n      <th>crps_val_std</th>\n      <th>name</th>\n    </tr>\n  </thead>\n  <tbody>\n    <tr>\n      <th>camera_model_energy_score_10</th>\n      <td>0.399662</td>\n      <td>-15.698096</td>\n      <td>0.088741</td>\n      <td>0.116661</td>\n      <td>124.673322</td>\n      <td>0.063775</td>\n      <td>0.061689</td>\n      <td>0.063227</td>\n      <td>camera_model_energy_score_10</td>\n    </tr>\n    <tr>\n      <th>camera_model_energy_score_10_patched_5_8</th>\n      <td>0.399662</td>\n      <td>-15.698096</td>\n      <td>0.088741</td>\n      <td>0.116661</td>\n      <td>124.673322</td>\n      <td>0.063775</td>\n      <td>0.061689</td>\n      <td>0.063227</td>\n      <td>camera_model_energy_score_10_patched_5_8</td>\n    </tr>\n  </tbody>\n</table>\n</div>"
     },
     "execution_count": 31,
     "metadata": {},
     "output_type": "execute_result"
    }
   ],
   "source": [
    "# create dataframe from name and res_list \n",
    "res_df = pd.DataFrame(res_list, index=name_list)\n",
    "# set the index to a column \"name\"\n",
    "res_df[\"name\"] = res_df.index\n",
    "res_df"
   ],
   "metadata": {
    "collapsed": false,
    "ExecuteTime": {
     "end_time": "2024-02-13T11:42:56.516016789Z",
     "start_time": "2024-02-13T11:42:56.388778037Z"
    }
   },
   "execution_count": 31
  },
  {
   "cell_type": "code",
   "outputs": [],
   "source": [
    "# merge runs_list[[\"global_step\", \"_runtime\"] with res_df\n",
    "df_10 = df_10[[\"name\", \"global_step\", \"_runtime\"]].merge(res_df, on=\"name\")"
   ],
   "metadata": {
    "collapsed": false,
    "ExecuteTime": {
     "end_time": "2024-02-13T11:43:08.015105973Z",
     "start_time": "2024-02-13T11:43:07.870405461Z"
    }
   },
   "execution_count": 32
  },
  {
   "cell_type": "code",
   "outputs": [
    {
     "data": {
      "text/plain": "                                       name  global_step  _runtime  \\\n0              camera_model_energy_score_10         4200     24555   \n1  camera_model_energy_score_10_patched_5_8         4000     22633   \n\n   cal_err_val_mean  r2_val_mean  rmse_val_mean  cal_err_val_std  r2_val_std  \\\n0          0.399662   -15.698096       0.088741         0.116661  124.673322   \n1          0.399662   -15.698096       0.088741         0.116661  124.673322   \n\n   rmse_val_std  crps_val_mean  crps_val_std  \n0      0.063775       0.061689      0.063227  \n1      0.063775       0.061689      0.063227  ",
      "text/html": "<div>\n<style scoped>\n    .dataframe tbody tr th:only-of-type {\n        vertical-align: middle;\n    }\n\n    .dataframe tbody tr th {\n        vertical-align: top;\n    }\n\n    .dataframe thead th {\n        text-align: right;\n    }\n</style>\n<table border=\"1\" class=\"dataframe\">\n  <thead>\n    <tr style=\"text-align: right;\">\n      <th></th>\n      <th>name</th>\n      <th>global_step</th>\n      <th>_runtime</th>\n      <th>cal_err_val_mean</th>\n      <th>r2_val_mean</th>\n      <th>rmse_val_mean</th>\n      <th>cal_err_val_std</th>\n      <th>r2_val_std</th>\n      <th>rmse_val_std</th>\n      <th>crps_val_mean</th>\n      <th>crps_val_std</th>\n    </tr>\n  </thead>\n  <tbody>\n    <tr>\n      <th>0</th>\n      <td>camera_model_energy_score_10</td>\n      <td>4200</td>\n      <td>24555</td>\n      <td>0.399662</td>\n      <td>-15.698096</td>\n      <td>0.088741</td>\n      <td>0.116661</td>\n      <td>124.673322</td>\n      <td>0.063775</td>\n      <td>0.061689</td>\n      <td>0.063227</td>\n    </tr>\n    <tr>\n      <th>1</th>\n      <td>camera_model_energy_score_10_patched_5_8</td>\n      <td>4000</td>\n      <td>22633</td>\n      <td>0.399662</td>\n      <td>-15.698096</td>\n      <td>0.088741</td>\n      <td>0.116661</td>\n      <td>124.673322</td>\n      <td>0.063775</td>\n      <td>0.061689</td>\n      <td>0.063227</td>\n    </tr>\n  </tbody>\n</table>\n</div>"
     },
     "execution_count": 33,
     "metadata": {},
     "output_type": "execute_result"
    }
   ],
   "source": [
    "df_10"
   ],
   "metadata": {
    "collapsed": false,
    "ExecuteTime": {
     "end_time": "2024-02-13T11:43:08.225102305Z",
     "start_time": "2024-02-13T11:43:08.084053061Z"
    }
   },
   "execution_count": 33
  },
  {
   "cell_type": "markdown",
   "metadata": {},
   "source": [
    "## Finally print the tables\n",
    "\n",
    "Need to slightly modify this"
   ]
  },
  {
   "cell_type": "code",
   "execution_count": 34,
   "metadata": {
    "ExecuteTime": {
     "end_time": "2024-02-13T11:43:12.896776682Z",
     "start_time": "2024-02-13T11:43:12.822200928Z"
    }
   },
   "outputs": [],
   "source": [
    "def print_table(df, latex=False, file=None, tranpose=False):\n",
    "\n",
    "    metrics = [['cal_err_val_std', 'cal_err_val_mean'], ['crps_val_std', 'crps_val_mean'],\n",
    "               ['_runtime'], ['global_step']]\n",
    "    metric_names = [r\"Cal. Err. $ \\downarrow $\", r\"CRPS $ \\downarrow $\", \"Runtime (sec)\", \"Early stopping epoch\"]\n",
    "    # metrics = [['rmse_val_std', 'rmse_val_mean'], ['cal_err_val_std', 'cal_err_val_mean'],\n",
    "    #                ['r2_val_std', 'r2_val_mean'], ['_runtime'], ['global_step']]\n",
    "    # metric_names = [r\"NRMSE $ \\downarrow $\", r\"Cal. Err. $ \\downarrow $\", r\"R$^2$ $ \\uparrow $\", \"Runtime (sec)\", \"Early stopping epoch\"]\n",
    "    \n",
    "    df_dict = df.to_dict(\"list\")\n",
    "    \n",
    "    name_list = [\"\"] + [name.replace(\"shallow_water_model_\", \"\").replace(\"_\", \" \").replace(\"score\", \"\") for name in df_dict[\"name\"]]\n",
    "    \n",
    "    all_lists = []\n",
    "    all_lists.append(name_list)\n",
    "\n",
    "    for name, metric in zip(metric_names, metrics): \n",
    "        inner_list = [name]    \n",
    "\n",
    "        if len(metric) == 2:\n",
    "            inner_list += [f\"{df_dict[metric[1]][i]:.2f} $\\pm$ {df_dict[metric[0]][i]:.2f}\" for i in range(len(df_dict[metric[0]]))]\n",
    "        else:\n",
    "            inner_list += [f\"{df_dict[metric[0]][i]:.2f}\" for i in range(len(df_dict[metric[0]]))]\n",
    "                \n",
    "        all_lists.append(deepcopy(inner_list))\n",
    "\n",
    "    if tranpose: \n",
    "        all_lists = list(map(list, zip(*all_lists)))\n",
    "    \n",
    "    if file is None:\n",
    "        if latex: \n",
    "            print(tabulate(all_lists, headers=\"firstrow\", tablefmt=\"latex_raw\"))\n",
    "        else:\n",
    "            print(tabulate(all_lists, headers=\"firstrow\"))\n",
    "    else:\n",
    "        with open(file, 'w') as f:\n",
    "            if latex: \n",
    "                f.write(tabulate(all_lists, headers=\"firstrow\", tablefmt=\"latex_raw\"))\n",
    "            else:\n",
    "                f.write(tabulate(all_lists, headers=\"firstrow\"))"
   ]
  },
  {
   "cell_type": "code",
   "execution_count": 35,
   "metadata": {
    "ExecuteTime": {
     "end_time": "2024-02-13T11:43:13.777408384Z",
     "start_time": "2024-02-13T11:43:13.681287442Z"
    }
   },
   "outputs": [],
   "source": [
    "print_table(df_10, file=f\"tables/camera_model_all_metrics_n_gen={10}\", latex=True, tranpose=True)"
   ]
  },
  {
   "cell_type": "markdown",
   "metadata": {},
   "source": [
    "Print a Table with only the best performing method:"
   ]
  },
  {
   "cell_type": "code",
   "execution_count": 11,
   "metadata": {},
   "outputs": [],
   "source": [
    "df_10_selected = df_10[df_10[\"name\"].isin([\"camera_model_GAN_800000\", \"camera_model_energy_score_10_patched_5_8\", \"camera_model_kernel_score_10_patched_5_8\"])]\n",
    "print_table(df_10_selected, file=f\"tables/camera_model_best_methods_all_metrics_n_gen={10}\", latex=True, tranpose=True)"
   ]
  },
  {
   "cell_type": "markdown",
   "metadata": {},
   "source": [
    "# Images"
   ]
  },
  {
   "cell_type": "markdown",
   "metadata": {},
   "source": [
    "Load the true data and the results with GATSBI and NPE"
   ]
  },
  {
   "cell_type": "code",
   "execution_count": 17,
   "metadata": {
    "ExecuteTime": {
     "end_time": "2024-02-13T11:32:02.086625654Z",
     "start_time": "2024-02-13T11:32:02.017660274Z"
    }
   },
   "outputs": [],
   "source": [
    "data = np.load(join(\"plotting_data/camera_samples.npz\"))\n",
    "theta_test,\\\n",
    "obs_test,\\\n",
    "gatsbi_samples,\\\n",
    "npe_samples = data[\"theta_test\"],\\\n",
    "              data[\"obs_test\"],\\\n",
    "              data[\"gatsbi_samples\"],\\\n",
    "              data[\"npe_samples\"]"
   ]
  },
  {
   "cell_type": "code",
   "outputs": [
    {
     "data": {
      "text/plain": "(12, 1, 28, 28)"
     },
     "execution_count": 18,
     "metadata": {},
     "output_type": "execute_result"
    }
   ],
   "source": [
    "theta_test.shape"
   ],
   "metadata": {
    "collapsed": false,
    "ExecuteTime": {
     "end_time": "2024-02-13T11:32:07.641326643Z",
     "start_time": "2024-02-13T11:32:07.489586369Z"
    }
   },
   "execution_count": 18
  },
  {
   "cell_type": "code",
   "outputs": [
    {
     "data": {
      "text/plain": "(12, 100, 1, 1, 28, 28)"
     },
     "execution_count": 19,
     "metadata": {},
     "output_type": "execute_result"
    }
   ],
   "source": [
    "gatsbi_samples.shape"
   ],
   "metadata": {
    "collapsed": false,
    "ExecuteTime": {
     "end_time": "2024-02-13T11:32:20.867361987Z",
     "start_time": "2024-02-13T11:32:20.761399724Z"
    }
   },
   "execution_count": 19
  },
  {
   "cell_type": "markdown",
   "metadata": {},
   "source": [
    "## Original figure:"
   ]
  },
  {
   "cell_type": "code",
   "execution_count": null,
   "metadata": {
    "ExecuteTime": {
     "end_time": "2022-02-14T11:17:31.360211Z",
     "start_time": "2022-02-14T11:17:22.027684Z"
    }
   },
   "outputs": [],
   "source": [
    "gt_colors = \"Greys\"\n",
    "npe_colors = \"Greys\"\n",
    "npe_colors_std = \"Greys\"\n",
    "\n",
    "def add_cbar(cax, im, lim_min, lim_max):\n",
    "    cbar = plt.colorbar(im, cax=cax, ticks=[lim_min, lim_max])\n",
    "    cbar.ax.tick_params(labelsize=40)\n",
    "    cbar.outline.set_visible(False)\n",
    "    return cbar\n",
    "\n",
    "def hide_ax(ax):\n",
    "    ax.spines['right'].set_visible(False)\n",
    "    ax.spines['top'].set_visible(False)\n",
    "    ax.spines['bottom'].set_visible(False)\n",
    "    ax.spines['left'].set_visible(False)\n",
    "    ax.set_xticks([])\n",
    "    ax.set_yticks([])\n",
    "    return ax\n",
    "\n",
    "with mpl.rc_context(fname='./matplotlibrc'):\n",
    "\n",
    "    fig, axes = plt.subplots(6, 12, figsize=(50, 22.5))\n",
    "    left_adjust = .96\n",
    "\n",
    "    fig.subplots_adjust(right=.95, wspace=.1)\n",
    "    caxs = []\n",
    "    caxs.append(fig.add_axes([left_adjust, .79, .01, .1]))\n",
    "    caxs.append(fig.add_axes([left_adjust, .655, .01, .1]))\n",
    "    caxs.append(fig.add_axes([left_adjust, .52, .01, .1]))\n",
    "    caxs.append(fig.add_axes([left_adjust, .385, .01, .1]))\n",
    "    caxs.append(fig.add_axes([left_adjust, .25, .01, .1]))\n",
    "    caxs.append(fig.add_axes([left_adjust, .115, .01, .1]))\n",
    "    # 135\n",
    "    # imshow settings\n",
    "    fontname = \"Arial\"\n",
    "    fontsize = 50\n",
    "    origin = 'lower'\n",
    "    mn_vmin = 0.\n",
    "    mn_vmax = 1.\n",
    "\n",
    "    std_vmin = 0.\n",
    "    std_vmax = .1\n",
    "\n",
    "    for i, ax in enumerate(axes.T):\n",
    "        for j, (samp, tit) in enumerate(zip([theta_test, obs_test, [gatsbi_samples, npe_samples]],\n",
    "                                            [r\"$\\theta$\", r\"$y_{o}$\", \"Mean\"]\n",
    "                                           )\n",
    "                                       ):\n",
    "            # Set ylabel\n",
    "            if i == 0:\n",
    "                ax[j].set_ylabel(tit, fontsize=fontsize, fontname=fontname)\n",
    "                ax[4].set_ylabel(\"Mean\", fontsize=fontsize, fontname=fontname)\n",
    "                \n",
    "                ax[3].set_ylabel(\"SD\", fontsize=fontsize, fontname=fontname)\n",
    "                ax[5].set_ylabel(\"SD\", fontsize=fontsize, fontname=fontname)\n",
    "                \n",
    "            # Plot GT theta and obs\n",
    "            if j < 2:\n",
    "                im = ax[j].imshow((samp[i].squeeze()).T[::-1], \n",
    "                                  origin=origin,\n",
    "                                  vmax=mn_vmax, \n",
    "                                  vmin=mn_vmin, \n",
    "                                  cmap=gt_colors)\n",
    "                cbar = add_cbar(caxs[j], im, mn_vmin, mn_vmax)\n",
    "                hide_ax(ax[j])\n",
    "                \n",
    "            # Plot NPE / GATSBI samples\n",
    "            else:\n",
    "                for k, (ss, mean_vmax, stdev_vmax) in enumerate(zip(samp, [1., 10.], [.1, 1000.])):\n",
    "#                     mean = np.mean(npe_samples[i], 0).squeeze()\n",
    "#                     std = np.std(npe_samples[i], 0).squeeze()\n",
    "                    mean = np.mean(ss[i], 0).squeeze()\n",
    "                    std = np.std(ss[i], 0).squeeze()\n",
    "                    im = ax[j+ 2*k].imshow(mean.T[::-1], \n",
    "                                        origin=origin,\n",
    "                                        vmax=mean_vmax,\n",
    "                                        vmin=mn_vmin, \n",
    "                                        cmap=npe_colors)\n",
    "                    cbar = add_cbar(caxs[j + 2*k], im, mn_vmin, mean_vmax)\n",
    "                    hide_ax(ax[j + 2*k])\n",
    "\n",
    "                    im = ax[j + 2*k + 1].imshow(std.T[::-1],\n",
    "                                                vmax=stdev_vmax,\n",
    "                                                vmin=std_vmin,\n",
    "                                                origin=origin,\n",
    "                                                cmap=npe_colors_std)\n",
    "                    cbar = add_cbar(caxs[j + 2*k + 1], im, std_vmin, stdev_vmax)\n",
    "                    hide_ax(ax[j + 2*k + 1])\n",
    "\n",
    "    fig.text(0.095, .76, \n",
    "             \"Groundtruth\", \n",
    "             rotation='vertical', \n",
    "             va='center', \n",
    "             fontsize=fontsize,\n",
    "             fontname=fontname,\n",
    "             fontweight=\"bold\")\n",
    "\n",
    "    fig.text(0.095, .5, \n",
    "             \"GATSBI\", \n",
    "             rotation='vertical', \n",
    "             va='center', \n",
    "             fontsize=fontsize,\n",
    "             fontname=fontname,\n",
    "             fontweight=\"bold\")\n",
    "    \n",
    "    fig.text(0.095, .23, \n",
    "             \"NPE\", \n",
    "             rotation='vertical', \n",
    "             va='center', \n",
    "             fontsize=fontsize,\n",
    "             fontname=fontname,\n",
    "             fontweight=\"bold\")\n",
    "\n",
    "    ax = hide_ax(plt.gca())\n",
    "\n",
    "    # plt.savefig(\"plots/Figure5.pdf\")\n"
   ]
  },
  {
   "cell_type": "markdown",
   "metadata": {},
   "source": [
    "## Create posterior samples for the other methods: "
   ]
  },
  {
   "cell_type": "code",
   "execution_count": null,
   "metadata": {},
   "outputs": [],
   "source": [
    "from glob import glob"
   ]
  },
  {
   "cell_type": "code",
   "execution_count": null,
   "metadata": {},
   "outputs": [],
   "source": [
    "!mkdir plots/camera_model"
   ]
  },
  {
   "cell_type": "code",
   "execution_count": null,
   "metadata": {},
   "outputs": [],
   "source": [
    "root_folder = \"/data/localhost/pacchiar/GATSBI_extension_res/\""
   ]
  },
  {
   "cell_type": "markdown",
   "metadata": {},
   "source": [
    "Define the generator for the task at hand:"
   ]
  },
  {
   "cell_type": "code",
   "execution_count": null,
   "metadata": {},
   "outputs": [],
   "source": [
    "import sys, os\n",
    "sys.path.append(os.getcwd() + \"/../\")\n",
    "from gatsbi.task_utils.camera_model import Generator\n",
    "from gatsbi.networks import WrapGenMultipleSimulations\n",
    "\n",
    "gen = Generator()"
   ]
  },
  {
   "cell_type": "markdown",
   "metadata": {},
   "source": [
    "Transform the data"
   ]
  },
  {
   "cell_type": "code",
   "execution_count": null,
   "metadata": {},
   "outputs": [],
   "source": [
    "obs_test_tensor = torch.from_numpy(obs_test.astype(np.float32))"
   ]
  },
  {
   "cell_type": "code",
   "execution_count": null,
   "metadata": {
    "scrolled": true
   },
   "outputs": [],
   "source": [
    "obs_test_tensor.shape"
   ]
  },
  {
   "cell_type": "code",
   "execution_count": null,
   "metadata": {
    "scrolled": true
   },
   "outputs": [],
   "source": [
    "task_name = \"camera_model\"\n",
    "df_in = df_10\n",
    "\n",
    "scoring_rule_list = [\"energy_score\", \"kernel_score\"]\n",
    "patches_list = [None, [5,8], [7,14]]\n",
    "#scoring_rule_list = [\"kernel_score\"]\n",
    "#patches_list = [[5,8]]\n",
    "\n",
    "samples_list = []\n",
    "\n",
    "for scoring_rule in scoring_rule_list:\n",
    "    for patch in patches_list:\n",
    "\n",
    "        # obtain the identifier\n",
    "        df = df_in[df_in.scoring_rule == scoring_rule]\n",
    "        if patch is None: \n",
    "            df = df[df.patched_sr == False]\n",
    "        else:\n",
    "            df = df[df.patched_sr== True]\n",
    "            df = df[df.patch_size == patch[1]]         \n",
    "            \n",
    "        identifier = df[\"ID\"].item()\n",
    "        print(identifier)\n",
    "\n",
    "        # obtain the path\n",
    "        correct_folder = glob(root_folder + task_name + f\"/wandb/*{identifier}*\")\n",
    "        if len(correct_folder) == 0:\n",
    "            print(\"No match\")\n",
    "            continue\n",
    "        correct_folder = correct_folder[0]\n",
    "        \n",
    "        # now should load the generative network for that folder:        \n",
    "        chpt = torch.load(correct_folder +  \"/files/checkpoint_models0.pt\",map_location=torch.device('cpu') )\n",
    "        gen.load_state_dict(chpt[\"generator_state_dict\"])\n",
    "\n",
    "        # wrap the generator so that it can generate multiple samples at once: \n",
    "        gen_wrapped = WrapGenMultipleSimulations(gen, n_simulations=100)        \n",
    "        \n",
    "        # now feed the observations into the generator to obtain posterior samples: \n",
    "        samples_list.append(gen_wrapped(obs_test_tensor).unsqueeze(2).detach().numpy())  # add a dummy dimension to have same \n",
    "                "
   ]
  },
  {
   "cell_type": "markdown",
   "metadata": {},
   "source": [
    "## Plot: best methods wrt GAN\n",
    "Both Energy and Kernel Score with patch 5_8 perform well. Report those two in the main text\n",
    "The best method is with kernel_score and patch 5_8"
   ]
  },
  {
   "cell_type": "code",
   "execution_count": null,
   "metadata": {},
   "outputs": [],
   "source": [
    "main_samples = [gatsbi_samples, samples_list[1], samples_list[-2]]"
   ]
  },
  {
   "cell_type": "code",
   "execution_count": null,
   "metadata": {
    "ExecuteTime": {
     "end_time": "2022-02-14T11:17:31.360211Z",
     "start_time": "2022-02-14T11:17:22.027684Z"
    },
    "scrolled": false
   },
   "outputs": [],
   "source": [
    "with mpl.rc_context(fname='./matplotlibrc'):\n",
    "\n",
    "    fig, axes = plt.subplots(8, 12, figsize=(50, 22.5 * 4 / 3))\n",
    "    left_adjust = .96\n",
    "\n",
    "    fig.subplots_adjust(right=.95, wspace=.1)\n",
    "    caxs = []\n",
    "    height_caxs = .08\n",
    "    \n",
    "    caxs.append(fig.add_axes([left_adjust, .81, .01, height_caxs]))\n",
    "    caxs.append(fig.add_axes([left_adjust, .71, .01, height_caxs]))\n",
    "    caxs.append(fig.add_axes([left_adjust, .61, .01, height_caxs]))\n",
    "    caxs.append(fig.add_axes([left_adjust, .51, .01, height_caxs]))\n",
    "    caxs.append(fig.add_axes([left_adjust, .41, .01, height_caxs]))\n",
    "    caxs.append(fig.add_axes([left_adjust, .31, .01, height_caxs]))\n",
    "    caxs.append(fig.add_axes([left_adjust, .21, .01, height_caxs]))\n",
    "    caxs.append(fig.add_axes([left_adjust, .11, .01, height_caxs]))\n",
    "\n",
    "    # 135\n",
    "    # imshow settings\n",
    "    fontname = \"Arial\"\n",
    "    fontsize = 50\n",
    "    origin = 'lower'\n",
    "    mn_vmin = 0.\n",
    "    mn_vmax = 1.\n",
    "\n",
    "    std_vmin = 0.\n",
    "    std_vmax = .1\n",
    "\n",
    "    #for i, ax in enumerate(axes.T):\n",
    "    for i, ax in enumerate(axes.T):\n",
    "        for j, (samp, tit) in enumerate(zip([theta_test, obs_test, main_samples],\n",
    "                                            [r\"$\\theta$\", r\"$y_{o}$\", \"Mean\", \"Mean\"]\n",
    "                                           )\n",
    "                                       ):\n",
    "            # Set ylabel\n",
    "            if i == 0:\n",
    "                ax[j].set_ylabel(tit, fontsize=fontsize, fontname=fontname)\n",
    "                ax[4].set_ylabel(\"Mean\", fontsize=fontsize, fontname=fontname)\n",
    "                ax[6].set_ylabel(\"Mean\", fontsize=fontsize, fontname=fontname)\n",
    "                \n",
    "                ax[3].set_ylabel(\"SD\", fontsize=fontsize, fontname=fontname)\n",
    "                ax[5].set_ylabel(\"SD\", fontsize=fontsize, fontname=fontname)\n",
    "                ax[7].set_ylabel(\"SD\", fontsize=fontsize, fontname=fontname)\n",
    "                \n",
    "            # Plot GT theta and obs\n",
    "            if j < 2:\n",
    "                im = ax[j].imshow((samp[i].squeeze()).T[::-1], \n",
    "                                  origin=origin,\n",
    "                                  vmax=mn_vmax, \n",
    "                                  vmin=mn_vmin, \n",
    "                                  cmap=gt_colors)\n",
    "                cbar = add_cbar(caxs[j], im, mn_vmin, mn_vmax)\n",
    "                hide_ax(ax[j])\n",
    "                \n",
    "            # Plot NPE / GATSBI samples\n",
    "            else:\n",
    "                for k, (ss, mean_vmax, stdev_vmax) in enumerate(zip(samp, [1., 1., 1.], [.1, .5, .5])):\n",
    "#                     mean = np.mean(npe_samples[i], 0).squeeze()\n",
    "#                     std = np.std(npe_samples[i], 0).squeeze()\n",
    "                    mean = np.mean(ss[i], 0).squeeze()\n",
    "                    std = np.std(ss[i], 0).squeeze()\n",
    "                    #print(\"method {}, max std {}\".format(k,std.max()))\n",
    "                    #if std.max()>0.4:\n",
    "                    #    print(k)\n",
    "                    im = ax[j+ 2*k].imshow(mean.T[::-1], \n",
    "                                        origin=origin,\n",
    "                                        vmax=mean_vmax,\n",
    "                                        vmin=mn_vmin, \n",
    "                                        cmap=npe_colors)\n",
    "                    cbar = add_cbar(caxs[j + 2*k], im, mn_vmin, mean_vmax)\n",
    "                    hide_ax(ax[j + 2*k])\n",
    "\n",
    "                    im = ax[j + 2*k + 1].imshow(std.T[::-1],\n",
    "                                                vmax=stdev_vmax,\n",
    "                                                vmin=std_vmin,\n",
    "                                                origin=origin,\n",
    "                                                cmap=npe_colors_std)\n",
    "                    cbar = add_cbar(caxs[j + 2*k + 1], im, std_vmin, stdev_vmax)\n",
    "                    hide_ax(ax[j + 2*k + 1])\n",
    "\n",
    "    fig.text(0.095, .8, \n",
    "             \"Groundtruth\", \n",
    "             rotation='vertical', \n",
    "             va='center', \n",
    "             fontsize=fontsize,\n",
    "             fontname=fontname,\n",
    "             fontweight=\"bold\")\n",
    "\n",
    "    fig.text(0.095, .6, \n",
    "             \"GAN\", \n",
    "             rotation='vertical', \n",
    "             va='center', \n",
    "             fontsize=fontsize,\n",
    "             fontname=fontname,\n",
    "             fontweight=\"bold\")\n",
    "    \n",
    "    fig.text(0.095, .4, \n",
    "             \"Energy Score\", \n",
    "             rotation='vertical', \n",
    "             va='center', \n",
    "             fontsize=fontsize,\n",
    "             fontname=fontname,\n",
    "             fontweight=\"bold\")\n",
    "\n",
    "    fig.text(0.095, .2, \n",
    "             \"Kernel Score\", \n",
    "             rotation='vertical', \n",
    "             va='center', \n",
    "             fontsize=fontsize,\n",
    "             fontname=fontname,\n",
    "             fontweight=\"bold\")\n",
    "\n",
    "    #ax = hide_ax(plt.gca())  # that is useless\n",
    "\n",
    "    plt.savefig(\"plots/camera_model/camera_model_best_methods.pdf\")"
   ]
  },
  {
   "cell_type": "markdown",
   "metadata": {},
   "source": [
    "Now create all plots at once"
   ]
  },
  {
   "cell_type": "code",
   "execution_count": null,
   "metadata": {},
   "outputs": [],
   "source": [
    "samples_list_total = [gatsbi_samples] + samples_list"
   ]
  },
  {
   "cell_type": "code",
   "execution_count": null,
   "metadata": {
    "ExecuteTime": {
     "end_time": "2022-02-14T11:17:31.360211Z",
     "start_time": "2022-02-14T11:17:22.027684Z"
    },
    "scrolled": false
   },
   "outputs": [],
   "source": [
    "assert len(samples_list_total) == 7\n",
    "\n",
    "with mpl.rc_context(fname='./matplotlibrc'):\n",
    "\n",
    "    fig, axes = plt.subplots((1 + len(samples_list_total)) * 2, 12, figsize=(50, 22.5 * (1 + len(samples_list_total)) / 3))\n",
    "    left_adjust = .96\n",
    "\n",
    "    fig.subplots_adjust(right=.95, wspace=.1)\n",
    "\n",
    "    height_caxs = .04\n",
    "    start_caxs_pos = 0.11\n",
    "    factor_caxs_pos = 0.049\n",
    "    caxs = []\n",
    "    for i in range(16):\n",
    "        caxs.append(fig.add_axes([left_adjust, start_caxs_pos + i *factor_caxs_pos, .01, height_caxs]))\n",
    "    caxs.reverse()\n",
    "        \n",
    "    # 135\n",
    "    # imshow settings\n",
    "    fontname = \"Arial\"\n",
    "    fontsize = 50\n",
    "    origin = 'lower'\n",
    "    mn_vmin = 0.\n",
    "    mn_vmax = 1.\n",
    "\n",
    "    std_vmin = 0.\n",
    "    std_vmax = .1\n",
    "\n",
    "    #for i, ax in enumerate(axes.T):\n",
    "    for i, ax in enumerate(axes.T):\n",
    "        for j, (samp, tit) in enumerate(zip([theta_test, obs_test, samples_list_total],\n",
    "                                            [r\"$\\theta$\", r\"$y_{o}$\", \"Mean\"]\n",
    "                                           )\n",
    "                                       ):\n",
    "            # Set ylabel\n",
    "            if i == 0:\n",
    "                ax[j].set_ylabel(tit, fontsize=fontsize, fontname=fontname)\n",
    "                ax[3].set_ylabel(\"SD\", fontsize=fontsize, fontname=fontname)\n",
    "                \n",
    "                for kk in range(2, 8):\n",
    "                    ax[2*kk].set_ylabel(\"Mean\", fontsize=fontsize, fontname=fontname)\n",
    "                    ax[2*kk+1].set_ylabel(\"SD\", fontsize=fontsize, fontname=fontname)\n",
    "                \n",
    "            # Plot GT theta and obs\n",
    "            if j < 2:\n",
    "                im = ax[j].imshow((samp[i].squeeze()).T[::-1], \n",
    "                                  origin=origin,\n",
    "                                  vmax=mn_vmax, \n",
    "                                  vmin=mn_vmin, \n",
    "                                  cmap=gt_colors)\n",
    "                cbar = add_cbar(caxs[j], im, mn_vmin, mn_vmax)\n",
    "                hide_ax(ax[j])\n",
    "                \n",
    "            # Plot NPE / GATSBI samples\n",
    "            else:\n",
    "                for k, (ss, mean_vmax, stdev_vmax) in enumerate(zip(samp, [1.] * len(samp), [.1] + [.5]* (len(samp)-1))):\n",
    "#                     mean = np.mean(npe_samples[i], 0).squeeze()\n",
    "#                     std = np.std(npe_samples[i], 0).squeeze()\n",
    "                    mean = np.mean(ss[i], 0).squeeze()\n",
    "                    std = np.std(ss[i], 0).squeeze()\n",
    "                    #print(\"method {}, max std {}\".format(k,std.max()))\n",
    "                    #if std.max()>0.4:\n",
    "                    #    print(k, std.max())\n",
    "                    im = ax[j+ 2*k].imshow(mean.T[::-1], \n",
    "                                        origin=origin,\n",
    "                                        vmax=mean_vmax,\n",
    "                                        vmin=mn_vmin, \n",
    "                                        cmap=npe_colors)\n",
    "                    cbar = add_cbar(caxs[j + 2*k], im, mn_vmin, mean_vmax)\n",
    "                    hide_ax(ax[j + 2*k])\n",
    "\n",
    "                    im = ax[j + 2*k + 1].imshow(std.T[::-1],\n",
    "                                                vmax=stdev_vmax,\n",
    "                                                vmin=std_vmin,\n",
    "                                                origin=origin,\n",
    "                                                cmap=npe_colors_std)\n",
    "                    cbar = add_cbar(caxs[j + 2*k + 1], im, std_vmin, stdev_vmax)\n",
    "                    hide_ax(ax[j + 2*k + 1])\n",
    "\n",
    "                    \n",
    "    names = [\"Groundtruth\", \"GAN\", \"Energy\", \"Energy 5,8\", \"Energy 7,14\", \"Kernel\", \"Kernel 5,8\", \"Kernel 7,14\"]\n",
    "    positions = [.835,.74,.65, .55, .45, .35, .25625, .15]\n",
    "    for pos, name in zip(positions, names):\n",
    "        fig.text(0.095, pos, \n",
    "                 name, \n",
    "                 rotation='vertical', \n",
    "                 va='center', \n",
    "                 fontsize=fontsize,\n",
    "                 fontname=fontname,\n",
    "                 fontweight=\"bold\")\n",
    "\n",
    "    plt.savefig(\"plots/camera_model/camera_model_all_methods.pdf\")"
   ]
  }
 ],
 "metadata": {
  "kernelspec": {
   "display_name": "Python 3",
   "language": "python",
   "name": "python3"
  },
  "language_info": {
   "codemirror_mode": {
    "name": "ipython",
    "version": 3
   },
   "file_extension": ".py",
   "mimetype": "text/x-python",
   "name": "python",
   "nbconvert_exporter": "python",
   "pygments_lexer": "ipython3",
   "version": "3.8.10"
  },
  "latex_envs": {
   "LaTeX_envs_menu_present": true,
   "autoclose": false,
   "autocomplete": true,
   "bibliofile": "biblio.bib",
   "cite_by": "apalike",
   "current_citInitial": 1,
   "eqLabelWithNumbers": true,
   "eqNumInitial": 1,
   "hotkeys": {
    "equation": "Ctrl-E",
    "itemize": "Ctrl-I"
   },
   "labels_anchors": false,
   "latex_user_defs": false,
   "report_style_numbering": false,
   "user_envs_cfg": false
  }
 },
 "nbformat": 4,
 "nbformat_minor": 4
}
