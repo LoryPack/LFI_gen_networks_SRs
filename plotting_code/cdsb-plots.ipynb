{
 "cells": [
  {
   "cell_type": "code",
   "execution_count": 2,
   "metadata": {},
   "outputs": [
    {
     "name": "stderr",
     "output_type": "stream",
     "text": [
      "2023-08-21 16:30:47.845256: I tensorflow/core/util/port.cc:110] oneDNN custom operations are on. You may see slightly different numerical results due to floating-point round-off errors from different computation orders. To turn them off, set the environment variable `TF_ENABLE_ONEDNN_OPTS=0`.\n",
      "2023-08-21 16:30:47.847894: I tensorflow/tsl/cuda/cudart_stub.cc:28] Could not find cuda drivers on your machine, GPU will not be used.\n",
      "2023-08-21 16:30:47.899291: I tensorflow/tsl/cuda/cudart_stub.cc:28] Could not find cuda drivers on your machine, GPU will not be used.\n",
      "2023-08-21 16:30:47.900463: I tensorflow/core/platform/cpu_feature_guard.cc:182] This TensorFlow binary is optimized to use available CPU instructions in performance-critical operations.\n",
      "To enable the following instructions: AVX2 AVX_VNNI FMA, in other operations, rebuild TensorFlow with the appropriate compiler flags.\n",
      "2023-08-21 16:30:49.760074: W tensorflow/compiler/tf2tensorrt/utils/py_utils.cc:38] TF-TRT Warning: Could not find TensorRT\n"
     ]
    }
   ],
   "source": [
    "import matplotlib as mpl\n",
    "import matplotlib.pyplot as plt\n",
    "import matplotlib.patches as mpatches\n",
    "import numpy as np\n",
    "import os\n",
    "import pickle\n",
    "import torch\n",
    "import torch.nn as nn\n",
    "\n",
    "from matplotlib.lines import Line2D\n",
    "from mpl_toolkits.mplot3d import Axes3D\n",
    "from os.path import join\n",
    "from scipy.stats import binom\n",
    "\n",
    "import sys\n",
    "sys.path.append(os.getcwd() + \"/../\")\n",
    "from gatsbi.task_utils.cdsb_MNIST import Simulator, Generator, Prior\n",
    "from gatsbi.networks import WrapGenMultipleSimulations\n",
    "from torchmetrics.image import PeakSignalNoiseRatio\n",
    "from torchmetrics.image import StructuralSimilarityIndexMeasure\n"
   ]
  },
  {
   "cell_type": "markdown",
   "metadata": {},
   "source": [
    "# Download data from WANDB\n",
    "And put them in dataframes"
   ]
  },
  {
   "cell_type": "code",
   "execution_count": 3,
   "metadata": {},
   "outputs": [],
   "source": [
    "import pandas as pd\n",
    "import wandb\n",
    "api = wandb.Api()\n",
    "\n",
    "def obtain_wandb_data(project):\n",
    "    runs_list = []\n",
    "    new_dict_list = []\n",
    "\n",
    "    # Project is specified by <entity/project-name>\n",
    "    runs = api.runs(\"bencekaszas/\" + project)\n",
    "    \n",
    "    for run in runs:\n",
    "        # .summary contains the output keys/values for metrics like accuracy.\n",
    "        #  We call ._json_dict to omit large files\n",
    "        summary_dict = run.summary._json_dict\n",
    "\n",
    "        # .config contains the hyperparameters.\n",
    "        #  We remove special values that start with _.\n",
    "        config_dict = {k: v for k, v in run.config.items()\n",
    "                        if not k.startswith('_')}\n",
    "\n",
    "        # .name is the human-readable name of the run.\n",
    "        new_dict = {\"name\": run.name, \"ID\": run.id, **config_dict, **summary_dict}\n",
    "        new_dict_list.append(new_dict)           \n",
    "\n",
    "    runs_list.append(pd.DataFrame(new_dict_list))\n",
    "\n",
    "    return runs_list\n",
    "\n",
    "\n",
    "runs_list = obtain_wandb_data(\"CDSB-MNIST-vaegan-COLAB\")"
   ]
  },
  {
   "cell_type": "code",
   "execution_count": 4,
   "metadata": {},
   "outputs": [],
   "source": [
    "runs_list = runs_list[0].sort_values(\"name\")"
   ]
  },
  {
   "cell_type": "code",
   "execution_count": 5,
   "metadata": {},
   "outputs": [
    {
     "data": {
      "text/plain": [
       "Index(['name', 'ID', 'epochs', 'patch_size', 'patch_step', 'patched_sr',\n",
       "       'sample_seed', 'gen_opt_args', 'scoring_rule', 'hold_out_perc',\n",
       "       'log_dataloader', 'batch_size_perc', 'num_training_simulations',\n",
       "       'num_simulations_generator', '_runtime', 'r2_val_std', 'rmse_val_std',\n",
       "       'cal_err_val_std', 'cal_err_val_mean', 'early_stop_at_epoch', '_step',\n",
       "       'global_step', 'r2_val_mean', 'sbc_lines', 'gen_grad', 'gen_loss',\n",
       "       '_timestamp', 'train_time', 'rmse_val_mean', '_wandb'],\n",
       "      dtype='object')"
      ]
     },
     "execution_count": 5,
     "metadata": {},
     "output_type": "execute_result"
    }
   ],
   "source": [
    "runs_list.columns"
   ]
  },
  {
   "cell_type": "code",
   "execution_count": 6,
   "metadata": {},
   "outputs": [
    {
     "data": {
      "text/html": [
       "<div>\n",
       "<style scoped>\n",
       "    .dataframe tbody tr th:only-of-type {\n",
       "        vertical-align: middle;\n",
       "    }\n",
       "\n",
       "    .dataframe tbody tr th {\n",
       "        vertical-align: top;\n",
       "    }\n",
       "\n",
       "    .dataframe thead th {\n",
       "        text-align: right;\n",
       "    }\n",
       "</style>\n",
       "<table border=\"1\" class=\"dataframe\">\n",
       "  <thead>\n",
       "    <tr style=\"text-align: right;\">\n",
       "      <th></th>\n",
       "      <th>name</th>\n",
       "      <th>ID</th>\n",
       "      <th>epochs</th>\n",
       "      <th>patch_size</th>\n",
       "      <th>patch_step</th>\n",
       "      <th>patched_sr</th>\n",
       "      <th>sample_seed</th>\n",
       "      <th>gen_opt_args</th>\n",
       "      <th>scoring_rule</th>\n",
       "      <th>hold_out_perc</th>\n",
       "      <th>...</th>\n",
       "      <th>_step</th>\n",
       "      <th>global_step</th>\n",
       "      <th>r2_val_mean</th>\n",
       "      <th>sbc_lines</th>\n",
       "      <th>gen_grad</th>\n",
       "      <th>gen_loss</th>\n",
       "      <th>_timestamp</th>\n",
       "      <th>train_time</th>\n",
       "      <th>rmse_val_mean</th>\n",
       "      <th>_wandb</th>\n",
       "    </tr>\n",
       "  </thead>\n",
       "  <tbody>\n",
       "    <tr>\n",
       "      <th>1</th>\n",
       "      <td>cdsb_MNIST_energy_score_10</td>\n",
       "      <td>ugvieqk2</td>\n",
       "      <td>5000</td>\n",
       "      <td>NaN</td>\n",
       "      <td>NaN</td>\n",
       "      <td>False</td>\n",
       "      <td>42</td>\n",
       "      <td>[0.0002, [0.5, 0.99]]</td>\n",
       "      <td>energy_score</td>\n",
       "      <td>0.1</td>\n",
       "      <td>...</td>\n",
       "      <td>7</td>\n",
       "      <td>1000</td>\n",
       "      <td>0.083562</td>\n",
       "      <td>{'height': 500, 'sha256': '5bdc7ab89bdd41de101...</td>\n",
       "      <td>NaN</td>\n",
       "      <td>3.388779</td>\n",
       "      <td>1.692552e+09</td>\n",
       "      <td>1148.292838</td>\n",
       "      <td>0.071733</td>\n",
       "      <td>{'runtime': 5096}</td>\n",
       "    </tr>\n",
       "    <tr>\n",
       "      <th>0</th>\n",
       "      <td>cdsb_MNIST_energy_score_10_patched_5_8</td>\n",
       "      <td>lsxg4l69</td>\n",
       "      <td>5000</td>\n",
       "      <td>8.0</td>\n",
       "      <td>5.0</td>\n",
       "      <td>True</td>\n",
       "      <td>42</td>\n",
       "      <td>[0.0002, [0.5, 0.99]]</td>\n",
       "      <td>energy_score</td>\n",
       "      <td>0.1</td>\n",
       "      <td>...</td>\n",
       "      <td>11</td>\n",
       "      <td>1800</td>\n",
       "      <td>0.545087</td>\n",
       "      <td>{'size': 159440, '_type': 'image-file', 'width...</td>\n",
       "      <td>NaN</td>\n",
       "      <td>3.362769</td>\n",
       "      <td>1.692566e+09</td>\n",
       "      <td>2185.478559</td>\n",
       "      <td>0.062445</td>\n",
       "      <td>{'runtime': 6646}</td>\n",
       "    </tr>\n",
       "  </tbody>\n",
       "</table>\n",
       "<p>2 rows × 30 columns</p>\n",
       "</div>"
      ],
      "text/plain": [
       "                                     name        ID  epochs  patch_size  \\\n",
       "1              cdsb_MNIST_energy_score_10  ugvieqk2    5000         NaN   \n",
       "0  cdsb_MNIST_energy_score_10_patched_5_8  lsxg4l69    5000         8.0   \n",
       "\n",
       "   patch_step  patched_sr  sample_seed           gen_opt_args  scoring_rule  \\\n",
       "1         NaN       False           42  [0.0002, [0.5, 0.99]]  energy_score   \n",
       "0         5.0        True           42  [0.0002, [0.5, 0.99]]  energy_score   \n",
       "\n",
       "   hold_out_perc  ...  _step  global_step  r2_val_mean  \\\n",
       "1            0.1  ...      7         1000     0.083562   \n",
       "0            0.1  ...     11         1800     0.545087   \n",
       "\n",
       "                                           sbc_lines  gen_grad  gen_loss  \\\n",
       "1  {'height': 500, 'sha256': '5bdc7ab89bdd41de101...       NaN  3.388779   \n",
       "0  {'size': 159440, '_type': 'image-file', 'width...       NaN  3.362769   \n",
       "\n",
       "     _timestamp   train_time  rmse_val_mean             _wandb  \n",
       "1  1.692552e+09  1148.292838       0.071733  {'runtime': 5096}  \n",
       "0  1.692566e+09  2185.478559       0.062445  {'runtime': 6646}  \n",
       "\n",
       "[2 rows x 30 columns]"
      ]
     },
     "execution_count": 6,
     "metadata": {},
     "output_type": "execute_result"
    }
   ],
   "source": [
    "runs_list"
   ]
  },
  {
   "cell_type": "code",
   "execution_count": 10,
   "metadata": {},
   "outputs": [],
   "source": [
    "from copy import deepcopy\n",
    "from tabulate import tabulate\n",
    "\n",
    "def print_table(df, latex=False, file=None, tranpose=False):\n",
    "\n",
    "    metrics = [['rmse_val_std', 'rmse_val_mean'], ['cal_err_val_std', 'cal_err_val_mean'],\n",
    "                   ['r2_val_std', 'r2_val_mean'], ['_runtime'], ['global_step']]\n",
    "    metric_names = [r\"NRMSE $ \\downarrow $\", r\"Cal. Err. $ \\downarrow $\", r\"R$^2$ $ \\uparrow $\", \"Runtime (sec)\", \"Early stopping epoch\"]\n",
    "    \n",
    "    df_dict = df.to_dict(\"list\")\n",
    "    \n",
    "    name_list = [\"\"] + [name.replace(\"RedSea\", \"\").replace(\"_\", \" \").replace(\"score\", \"\") for name in df_dict[\"name\"]]\n",
    "    \n",
    "    all_lists = []\n",
    "    all_lists.append(name_list)\n",
    "\n",
    "    for name, metric in zip(metric_names, metrics): \n",
    "        inner_list = [name]    \n",
    "\n",
    "        if len(metric) == 2:\n",
    "            inner_list += [f\"{df_dict[metric[1]][i]:.2f} $\\pm$ {df_dict[metric[0]][i]:.2f}\" for i in range(len(df_dict[metric[0]]))]\n",
    "        else:\n",
    "            inner_list += [f\"{df_dict[metric[0]][i]:.2f}\" for i in range(len(df_dict[metric[0]]))]\n",
    "                \n",
    "        all_lists.append(deepcopy(inner_list))\n",
    "\n",
    "    if tranpose: \n",
    "        all_lists = list(map(list, zip(*all_lists)))\n",
    "    \n",
    "    if file is None:\n",
    "        if latex: \n",
    "            print(tabulate(all_lists, headers=\"firstrow\", tablefmt=\"latex_raw\"))\n",
    "        else:\n",
    "            print(tabulate(all_lists, headers=\"firstrow\"))\n",
    "    else:\n",
    "        with open(file, 'w') as f:\n",
    "            if latex: \n",
    "                f.write(tabulate(all_lists, headers=\"firstrow\", tablefmt=\"latex_raw\"))\n",
    "            else:\n",
    "                f.write(tabulate(all_lists, headers=\"firstrow\"))"
   ]
  },
  {
   "cell_type": "code",
   "execution_count": 8,
   "metadata": {},
   "outputs": [],
   "source": [
    "print_table(runs_list, file=f\"plotting_code/tables/CDSB_mnist_all_metrics_n_gen={10}\", latex=True, tranpose=True)"
   ]
  },
  {
   "cell_type": "markdown",
   "metadata": {},
   "source": [
    "# Posterior samples"
   ]
  },
  {
   "cell_type": "code",
   "execution_count": 11,
   "metadata": {},
   "outputs": [],
   "source": [
    "gen = Generator()\n",
    "simulator = Simulator()\n",
    "\n",
    "root_folder = \"/home/bence/Internship/LFI_gen_networks_SRs/results/cdsb_MNIST\""
   ]
  },
  {
   "cell_type": "code",
   "execution_count": 14,
   "metadata": {},
   "outputs": [
    {
     "name": "stdout",
     "output_type": "stream",
     "text": [
      "torch.Size([10000, 1, 28, 28])\n",
      "torch.Size([10000, 1, 7, 7])\n"
     ]
    },
    {
     "data": {
      "image/png": "[encoded data removed]",
      "text/plain": [
       "<Figure size 640x480 with 1 Axes>"
      ]
     },
     "metadata": {},
     "output_type": "display_data"
    }
   ],
   "source": [
    "theta = torch.load(\"plotting_code/plotting_data/data_x_test.pt\")\n",
    "print(theta.shape)\n",
    "\n",
    "sim = simulator(theta)\n",
    "\n",
    "print(sim.shape)\n",
    "plt.imshow(theta[0][0], cmap=\"gray\")\n",
    "plt.show()\n"
   ]
  },
  {
   "cell_type": "code",
   "execution_count": 13,
   "metadata": {},
   "outputs": [
    {
     "name": "stdout",
     "output_type": "stream",
     "text": [
      "lsxg4l69\n",
      "torch.Size([1000, 1, 1, 1, 28, 28])\n",
      "torch.Size([1000, 28, 28])\n"
     ]
    }
   ],
   "source": [
    "from glob import glob\n",
    "\n",
    "n_post_samples = 1\n",
    "df_in = runs_list\n",
    "\n",
    "scoring_rule_list = [\"energy_score\"]\n",
    "patches_list = [[5,8]]\n",
    "\n",
    "my_names_list = []\n",
    "\n",
    "for scoring_rule in scoring_rule_list:\n",
    "    for patch in patches_list:\n",
    "\n",
    "        # obtain the identifier\n",
    "        df = df_in[df_in.scoring_rule == scoring_rule]\n",
    "        if patch is None: \n",
    "            df = df[df.patched_sr == False]\n",
    "        else:\n",
    "            df = df[df.patched_sr== True]\n",
    "            df = df[df.patch_size == patch[1]]         \n",
    "            \n",
    "        identifier = df[\"ID\"].item()\n",
    "        print(identifier)\n",
    "\n",
    "        # obtain the path\n",
    "        correct_folder = glob(root_folder + f\"/wandb/*{identifier}*\")\n",
    "        if len(correct_folder) == 0:\n",
    "            print(\"No match\")\n",
    "            continue\n",
    "        correct_folder = correct_folder[0]\n",
    "        \n",
    "        # now should load the generative network for that folder:        \n",
    "        chpt = torch.load(correct_folder +  \"/files/checkpoint_models0.pt\",map_location=torch.device('cpu') )\n",
    "        gen.load_state_dict(chpt[\"generator_state_dict\"])\n",
    "\n",
    "        # wrap the generator so that it can generate multiple samples at once: \n",
    "        gen_wrapped = WrapGenMultipleSimulations(gen, n_simulations=n_post_samples)        \n",
    "        \n",
    "        name = scoring_rule + (\"\" if patch is None else (str(patch[0]) + \"_\" + str(patch[1])))\n",
    "        my_names_list.append(name)\n",
    "        \n",
    "        # now feed the observations into the generator to obtain posterior samples: \n",
    "        # samples_list.append(gen_wrapped(obs_test_tensor).squeeze().detach().numpy() + 10)  # translate up by 10\n",
    "        posterior = torch.stack([gen_wrapped(sim[i].unsqueeze(0)) for i in range(1000)])\n",
    "        print(posterior.shape)  # translate up by 10\n",
    "        post_df = posterior.squeeze()\n",
    "        #post_df = torch.mean(posterior.squeeze(), dim = 1)\n",
    "        #post_df = torch.var(posterior.squeeze(), dim = 1)\n",
    "        print(post_df.shape)\n",
    "        # now pass through the simulator to obtain posterior predictive samples: should not do any fourier transform either\n",
    "        # simulations_list.append(np.array([simulator(sample.reshape(1,-1))[0] for sample in samples_list[-1]]).squeeze())\n",
    "        #z_samples[name] = np.array([simulator(sample.reshape(1,-1))[0] for sample in post_samples[name]]).squeeze()\n",
    "        \n",
    "        #break\n",
    "    #break\n",
    "\n",
    " "
   ]
  },
  {
   "cell_type": "code",
   "execution_count": 9,
   "metadata": {},
   "outputs": [],
   "source": [
    "import os\n",
    "import torch\n",
    "import torchvision.utils as vutils\n",
    "\n",
    "\n",
    "def save_image(tensor, fp, format=None, **kwargs):\n",
    "    normalized = normalize_tensor(tensor)\n",
    "    vutils.save_image(normalized, fp, format=format, **kwargs)\n",
    "\n",
    "def normalize_tensor(tensor):\n",
    "    normalized = tensor / 2 + 0.5\n",
    "    return normalized.clamp_(0, 1)"
   ]
  },
  {
   "cell_type": "code",
   "execution_count": 17,
   "metadata": {},
   "outputs": [
    {
     "data": {
      "image/png": "[encoded data removed]",
      "text/plain": [
       "<Figure size 640x480 with 1 Axes>"
      ]
     },
     "metadata": {},
     "output_type": "display_data"
    },
    {
     "data": {
      "image/png": "[encoded data removed]",
      "text/plain": [
       "<Figure size 640x480 with 1 Axes>"
      ]
     },
     "metadata": {},
     "output_type": "display_data"
    },
    {
     "data": {
      "image/png": "[encoded data removed]",
      "text/plain": [
       "<Figure size 640x480 with 1 Axes>"
      ]
     },
     "metadata": {},
     "output_type": "display_data"
    }
   ],
   "source": [
    "count = 6\n",
    "\n",
    "plt.imshow(theta[count][0], cmap=\"gray\")\n",
    "\n",
    "plt.show()\n",
    "plt.imshow(sim[count][0], cmap=\"gray\")\n",
    "plt.show()\n",
    "plt.imshow(post_df.detach().numpy()[count], cmap=\"gray\")\n",
    "plt.show()\n"
   ]
  },
  {
   "cell_type": "code",
   "execution_count": 11,
   "metadata": {},
   "outputs": [
    {
     "name": "stdout",
     "output_type": "stream",
     "text": [
      "PSNR:  6.467218\n",
      "SSIM:  0.020402847\n"
     ]
    }
   ],
   "source": [
    "\n",
    "psnr = PeakSignalNoiseRatio()\n",
    "ssim = StructuralSimilarityIndexMeasure()\n",
    "vals_psnr = []\n",
    "vals_ssim = []\n",
    "for i in range(1000):\n",
    "    vals_psnr.append(psnr(post_df[i],theta[i][0]).detach().numpy())\n",
    "print(\"PSNR: \",np.mean(vals_psnr))\n",
    "print(\"SSIM: \",ssim(post_df.unsqueeze(1),theta[:1000]).detach().numpy())\n",
    "\n",
    "\n"
   ]
  },
  {
   "cell_type": "code",
   "execution_count": null,
   "metadata": {},
   "outputs": [],
   "source": []
  }
 ],
 "metadata": {
  "kernelspec": {
   "display_name": "Python 3",
   "language": "python",
   "name": "python3"
  },
  "language_info": {
   "codemirror_mode": {
    "name": "ipython",
    "version": 3
   },
   "file_extension": ".py",
   "mimetype": "text/x-python",
   "name": "python",
   "nbconvert_exporter": "python",
   "pygments_lexer": "ipython3",
   "version": "3.10.9"
  },
  "orig_nbformat": 4
 },
 "nbformat": 4,
 "nbformat_minor": 2
}
