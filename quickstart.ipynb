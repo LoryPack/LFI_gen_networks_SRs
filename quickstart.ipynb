{
 "cells": [
  {
   "cell_type": "code",
   "execution_count": null,
   "id": "e8762aa4",
   "metadata": {
    "ExecuteTime": {
     "end_time": "2022-02-26T10:39:23.191015Z",
     "start_time": "2022-02-26T10:39:22.266946Z"
    }
   },
   "outputs": [],
   "source": [
    "from gatsbi.task_utils.benchmarks import make_generator, make_discriminator\n",
    "from gatsbi.optimize import Base as Opt\n",
    "import sbibm"
   ]
  },
  {
   "cell_type": "code",
   "execution_count": null,
   "id": "8d3673f4",
   "metadata": {
    "ExecuteTime": {
     "end_time": "2022-02-26T10:39:23.823230Z",
     "start_time": "2022-02-26T10:39:23.819975Z"
    }
   },
   "outputs": [],
   "source": [
    "# Make task callables\n",
    "task_name = \"two_moons\"\n",
    "task = sbibm.get_task(task_name)\n",
    "prior = task.get_prior()\n",
    "simulator = task.get_simulator()\n"
   ]
  },
  {
   "cell_type": "code",
   "execution_count": null,
   "id": "5a834522",
   "metadata": {
    "ExecuteTime": {
     "end_time": "2022-02-26T10:39:24.709176Z",
     "start_time": "2022-02-26T10:39:24.623150Z"
    }
   },
   "outputs": [],
   "source": [
    "# Make generator and discriminator networks\n",
    "gen = make_generator(seq_impwts=\"impwts\",\n",
    "                     add_noise_kwargs={\"lat_dim\": 2, \"output_dim\": 128, \"heteroscedastic\": True},\n",
    "                     add_noise_layer=5,\n",
    "                     gen_nonlin=\"leaky_relu\",\n",
    "                     gen_nonlin_kwargs={\"negative_slope\": 0.1},\n",
    "                     gen_units=[task.dim_data, 128, 128, 128, 128, task.dim_parameters])\n",
    "dis = make_discriminator(dis_units=[task.dim_data + task.dim_parameters, 2048, 2048, 2048, 2048, 2048, 1],\n",
    "                         dis_nonlin=\"leaky_relu\",\n",
    "                         dis_nonlin_kwargs={\"negative_slope\": 0.1})\n"
   ]
  },
  {
   "cell_type": "code",
   "execution_count": null,
   "id": "fbff6fc5",
   "metadata": {
    "ExecuteTime": {
     "end_time": "2022-02-26T10:39:25.359549Z",
     "start_time": "2022-02-26T10:39:25.354967Z"
    }
   },
   "outputs": [],
   "source": [
    "# Set training hyperparameters\n",
    "training_opts = {\n",
    "    \"gen_iter\": 1,\n",
    "    \"dis_iter\": 1,\n",
    "    \"max_norm_gen\": .1,\n",
    "    \"max_norm_dis\": .1,\n",
    "    \"num_simulations\": 100,\n",
    "    \"sample_seed\": None,\n",
    "    \"hold_out\": 10,\n",
    "    \"batch_size\": 10,\n",
    "    \"log_dataloader\": False,\n",
    "    \"stop_thresh\": 0.001,\n",
    "        }\n",
    "gen_optim_args = [0.0001, [0.9, 0.99]]\n",
    "dis_optim_args = [0.0001, [0.9, 0.99]]\n",
    "loss = \"cross_entropy\""
   ]
  },
  {
   "cell_type": "code",
   "execution_count": null,
   "id": "d553f1bb",
   "metadata": {
    "ExecuteTime": {
     "end_time": "2022-02-26T10:39:26.083935Z",
     "start_time": "2022-02-26T10:39:26.075348Z"
    }
   },
   "outputs": [],
   "source": [
    "# Make optimizer\n",
    "opt = Opt(\n",
    "        generator=gen,\n",
    "        discriminator=dis,\n",
    "        prior=prior,\n",
    "        simulator=simulator,\n",
    "        optim_args=[gen_optim_args, dis_optim_args],\n",
    "        loss=loss,\n",
    "        training_opts=training_opts\n",
    "            )"
   ]
  },
  {
   "cell_type": "code",
   "execution_count": null,
   "id": "cf63c365",
   "metadata": {
    "ExecuteTime": {
     "end_time": "2022-02-26T10:39:30.972986Z",
     "start_time": "2022-02-26T10:39:26.704232Z"
    }
   },
   "outputs": [],
   "source": [
    "# Train\n",
    "opt.train(10)"
   ]
  },
  {
   "cell_type": "code",
   "execution_count": null,
   "id": "7b8a93e3",
   "metadata": {},
   "outputs": [],
   "source": []
  }
 ],
 "metadata": {
  "kernelspec": {
   "display_name": "gatsbi",
   "language": "python",
   "name": "gatsbi"
  },
  "language_info": {
   "codemirror_mode": {
    "name": "ipython",
    "version": 3
   },
   "file_extension": ".py",
   "mimetype": "text/x-python",
   "name": "python",
   "nbconvert_exporter": "python",
   "pygments_lexer": "ipython3",
   "version": "3.7.7"
  },
  "latex_envs": {
   "LaTeX_envs_menu_present": true,
   "autoclose": false,
   "autocomplete": true,
   "bibliofile": "biblio.bib",
   "cite_by": "apalike",
   "current_citInitial": 1,
   "eqLabelWithNumbers": true,
   "eqNumInitial": 1,
   "hotkeys": {
    "equation": "Ctrl-E",
    "itemize": "Ctrl-I"
   },
   "labels_anchors": false,
   "latex_user_defs": false,
   "report_style_numbering": false,
   "user_envs_cfg": false
  }
 },
 "nbformat": 4,
 "nbformat_minor": 5
}
