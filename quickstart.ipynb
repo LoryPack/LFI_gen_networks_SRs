{
 "cells": [
  {
   "cell_type": "code",
   "execution_count": null,
   "id": "e8762aa4",
   "metadata": {
    "ExecuteTime": {
     "start_time": "2022-02-14T12:50:47.938Z"
    }
   },
   "outputs": [],
   "source": [
    "from gatsbi.task_utils.benchmarks import make_generator, make_discriminator\n",
    "from gatsbi.optimize import Base as Opt\n",
    "import sbibm"
   ]
  },
  {
   "cell_type": "code",
   "execution_count": null,
   "id": "8d3673f4",
   "metadata": {},
   "outputs": [],
   "source": [
    "task_name = \"two_moons\"\n",
    "task = sbibm.get_task(task_name)\n",
    "prior = task.get_prior()\n",
    "simulator = task.get_simulator()\n"
   ]
  }
 ],
 "metadata": {
  "kernelspec": {
   "display_name": "gatsbi",
   "language": "python",
   "name": "gatsbi"
  },
  "language_info": {
   "codemirror_mode": {
    "name": "ipython",
    "version": 3
   },
   "file_extension": ".py",
   "mimetype": "text/x-python",
   "name": "python",
   "nbconvert_exporter": "python",
   "pygments_lexer": "ipython3",
   "version": "3.7.7"
  },
  "latex_envs": {
   "LaTeX_envs_menu_present": true,
   "autoclose": false,
   "autocomplete": true,
   "bibliofile": "biblio.bib",
   "cite_by": "apalike",
   "current_citInitial": 1,
   "eqLabelWithNumbers": true,
   "eqNumInitial": 1,
   "hotkeys": {
    "equation": "Ctrl-E",
    "itemize": "Ctrl-I"
   },
   "labels_anchors": false,
   "latex_user_defs": false,
   "report_style_numbering": false,
   "user_envs_cfg": false
  }
 },
 "nbformat": 4,
 "nbformat_minor": 5
}
