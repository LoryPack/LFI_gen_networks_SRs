{
 "cells": [
  {
   "cell_type": "code",
   "execution_count": null,
   "outputs": [],
   "source": [
    "from gatsbi.task_utils.benchmarks import make_generator\n",
    "from gatsbi.optimize import BaseSR as Opt\n",
    "from gatsbi.networks import WrapGenMultipleSimulations\n",
    "import sbibm"
   ],
   "metadata": {
    "collapsed": false,
    "pycharm": {
     "name": "#%%\n"
    }
   }
  },
  {
   "cell_type": "code",
   "execution_count": null,
   "outputs": [],
   "source": [
    "# Make task callables\n",
    "task_name = \"two_moons\"\n",
    "task = sbibm.get_task(task_name)\n",
    "prior = task.get_prior()\n",
    "simulator = task.get_simulator()\n"
   ],
   "metadata": {
    "collapsed": false,
    "pycharm": {
     "name": "#%%\n"
    }
   }
  },
  {
   "cell_type": "code",
   "execution_count": null,
   "outputs": [],
   "source": [
    "# Make generator network\n",
    "gen = make_generator(seq_impwts=\"impwts\",\n",
    "                     add_noise_kwargs={\"lat_dim\": 2, \"output_dim\": 128, \"heteroscedastic\": True},\n",
    "                     add_noise_layer=5,\n",
    "                     gen_nonlin=\"leaky_relu\",\n",
    "                     gen_nonlin_kwargs={\"negative_slope\": 0.1},\n",
    "                     gen_units=[task.dim_data, 128, 128, 128, 128, task.dim_parameters])\n"
   ],
   "metadata": {
    "collapsed": false,
    "pycharm": {
     "name": "#%%\n"
    }
   }
  },
  {
   "cell_type": "code",
   "execution_count": null,
   "outputs": [],
   "source": [
    "# wrap the generator so that it can generate multiple outputs for each input:\n",
    "num_simulations_generator = 10\n",
    "gen_wrapped = WrapGenMultipleSimulations(gen, n_simulations=num_simulations_generator)"
   ],
   "metadata": {
    "collapsed": false,
    "pycharm": {
     "name": "#%%\n"
    }
   }
  },
  {
   "cell_type": "code",
   "execution_count": null,
   "outputs": [],
   "source": [
    "# Set training hyperparameters\n",
    "training_opts = {\n",
    "    \"gen_iter\": 1,\n",
    "    \"max_norm_gen\": .1,\n",
    "    \"num_simulations\": 100,\n",
    "    \"sample_seed\": None,\n",
    "    \"hold_out\": 10,\n",
    "    \"batch_size\": 10,\n",
    "    \"log_dataloader\": False,\n",
    "    \"stop_thresh\": 0.001,\n",
    "        }\n",
    "gen_optim_args = [0.0001, [0.9, 0.99]]\n",
    "scoring_rule = \"energy_score\""
   ],
   "metadata": {
    "collapsed": false,
    "pycharm": {
     "name": "#%%\n"
    }
   }
  },
  {
   "cell_type": "code",
   "execution_count": null,
   "outputs": [],
   "source": [
    "# Make optimizer\n",
    "opt = Opt(\n",
    "        generator=gen_wrapped,\n",
    "        prior=prior,\n",
    "        simulator=simulator,\n",
    "        optim_args=[gen_optim_args],\n",
    "        scoring_rule=scoring_rule,\n",
    "        training_opts=training_opts\n",
    "            )"
   ],
   "metadata": {
    "collapsed": false,
    "pycharm": {
     "name": "#%%\n"
    }
   }
  },
  {
   "cell_type": "code",
   "execution_count": 6,
   "id": "d553f1bb",
   "metadata": {
    "ExecuteTime": {
     "end_time": "2022-02-26T10:39:26.083935Z",
     "start_time": "2022-02-26T10:39:26.075348Z"
    },
    "pycharm": {
     "name": "#%%\n"
    }
   },
   "outputs": [],
   "source": [
    "# Make optimizer\n",
    "opt = Opt(\n",
    "        generator=gen_wrapped,\n",
    "        prior=prior,\n",
    "        simulator=simulator,\n",
    "        optim_args=[gen_optim_args],\n",
    "        scoring_rule=scoring_rule,\n",
    "        training_opts=training_opts\n",
    "            )"
   ]
  },
  {
   "cell_type": "code",
   "execution_count": 7,
   "id": "cf63c365",
   "metadata": {
    "ExecuteTime": {
     "end_time": "2022-02-26T10:39:30.972986Z",
     "start_time": "2022-02-26T10:39:26.704232Z"
    },
    "pycharm": {
     "name": "#%%\n"
    }
   },
   "outputs": [
    {
     "name": "stderr",
     "output_type": "stream",
     "text": [
      "100%|#############################################################################################################################################################################| 10/10 [00:00<00:00, 162.88it/s]\n"
     ]
    }
   ],
   "source": [
    "# Train\n",
    "opt.train(10)"
   ]
  },
  {
   "cell_type": "code",
   "execution_count": null,
   "id": "7b8a93e3",
   "metadata": {
    "pycharm": {
     "name": "#%%\n"
    }
   },
   "outputs": [],
   "source": []
  }
 ],
 "metadata": {
  "kernelspec": {
   "display_name": "Python 3",
   "language": "python",
   "name": "python3"
  },
  "language_info": {
   "codemirror_mode": {
    "name": "ipython",
    "version": 3
   },
   "file_extension": ".py",
   "mimetype": "text/x-python",
   "name": "python",
   "nbconvert_exporter": "python",
   "pygments_lexer": "ipython3",
   "version": "3.8.10"
  },
  "latex_envs": {
   "LaTeX_envs_menu_present": true,
   "autoclose": false,
   "autocomplete": true,
   "bibliofile": "biblio.bib",
   "cite_by": "apalike",
   "current_citInitial": 1,
   "eqLabelWithNumbers": true,
   "eqNumInitial": 1,
   "hotkeys": {
    "equation": "Ctrl-E",
    "itemize": "Ctrl-I"
   },
   "labels_anchors": false,
   "latex_user_defs": false,
   "report_style_numbering": false,
   "user_envs_cfg": false
  }
 },
 "nbformat": 4,
 "nbformat_minor": 5
}